{
 "cells": [
  {
   "cell_type": "code",
   "execution_count": 183,
   "metadata": {},
   "outputs": [],
   "source": [
    "import pandas as pd\n",
    "import numpy as np\n",
    "import matplotlib.pyplot as plt\n",
    "%matplotlib inline\n",
    "\n",
    "np.set_printoptions(threshold=np.inf)"
   ]
  },
  {
   "cell_type": "code",
   "execution_count": 13,
   "metadata": {},
   "outputs": [
    {
     "data": {
      "text/html": [
       "<div>\n",
       "<style scoped>\n",
       "    .dataframe tbody tr th:only-of-type {\n",
       "        vertical-align: middle;\n",
       "    }\n",
       "\n",
       "    .dataframe tbody tr th {\n",
       "        vertical-align: top;\n",
       "    }\n",
       "\n",
       "    .dataframe thead th {\n",
       "        text-align: right;\n",
       "    }\n",
       "</style>\n",
       "<table border=\"1\" class=\"dataframe\">\n",
       "  <thead>\n",
       "    <tr style=\"text-align: right;\">\n",
       "      <th></th>\n",
       "      <th>SPY</th>\n",
       "      <th>AAPL</th>\n",
       "      <th>MSFT</th>\n",
       "      <th>AMZN</th>\n",
       "      <th>TSLA</th>\n",
       "      <th>GOOGL</th>\n",
       "      <th>GOOG</th>\n",
       "      <th>FB</th>\n",
       "      <th>NVDA</th>\n",
       "      <th>BRK-B</th>\n",
       "      <th>...</th>\n",
       "      <th>PNC</th>\n",
       "      <th>MDLZ</th>\n",
       "      <th>MO</th>\n",
       "      <th>ADI</th>\n",
       "      <th>GILD</th>\n",
       "      <th>LMT</th>\n",
       "      <th>SYK</th>\n",
       "      <th>GM</th>\n",
       "      <th>TFC</th>\n",
       "      <th>TJX</th>\n",
       "    </tr>\n",
       "  </thead>\n",
       "  <tbody>\n",
       "    <tr>\n",
       "      <th>2021/10/21</th>\n",
       "      <td>0.002608</td>\n",
       "      <td>0.001474</td>\n",
       "      <td>0.010897</td>\n",
       "      <td>0.005842</td>\n",
       "      <td>0.032571</td>\n",
       "      <td>0.000825</td>\n",
       "      <td>0.002566</td>\n",
       "      <td>0.003228</td>\n",
       "      <td>0.026648</td>\n",
       "      <td>-0.002330</td>\n",
       "      <td>...</td>\n",
       "      <td>-0.000329</td>\n",
       "      <td>-0.002156</td>\n",
       "      <td>-0.004130</td>\n",
       "      <td>0.010683</td>\n",
       "      <td>0.001944</td>\n",
       "      <td>0.005416</td>\n",
       "      <td>0.009789</td>\n",
       "      <td>0.012832</td>\n",
       "      <td>-0.004696</td>\n",
       "      <td>0.012841</td>\n",
       "    </tr>\n",
       "    <tr>\n",
       "      <th>2021/10/22</th>\n",
       "      <td>-0.001036</td>\n",
       "      <td>-0.005285</td>\n",
       "      <td>-0.005149</td>\n",
       "      <td>-0.028955</td>\n",
       "      <td>0.017539</td>\n",
       "      <td>-0.030443</td>\n",
       "      <td>-0.029104</td>\n",
       "      <td>-0.050515</td>\n",
       "      <td>0.001498</td>\n",
       "      <td>0.008437</td>\n",
       "      <td>...</td>\n",
       "      <td>0.015748</td>\n",
       "      <td>0.005984</td>\n",
       "      <td>-0.000207</td>\n",
       "      <td>-0.002181</td>\n",
       "      <td>0.003732</td>\n",
       "      <td>0.003913</td>\n",
       "      <td>-0.002568</td>\n",
       "      <td>-0.010957</td>\n",
       "      <td>0.013526</td>\n",
       "      <td>-0.008040</td>\n",
       "    </tr>\n",
       "    <tr>\n",
       "      <th>2021/10/25</th>\n",
       "      <td>0.005363</td>\n",
       "      <td>-0.000336</td>\n",
       "      <td>-0.003332</td>\n",
       "      <td>-0.004551</td>\n",
       "      <td>0.126616</td>\n",
       "      <td>-0.000869</td>\n",
       "      <td>0.001068</td>\n",
       "      <td>0.012569</td>\n",
       "      <td>0.019361</td>\n",
       "      <td>0.003527</td>\n",
       "      <td>...</td>\n",
       "      <td>0.002221</td>\n",
       "      <td>-0.002974</td>\n",
       "      <td>-0.005599</td>\n",
       "      <td>0.011770</td>\n",
       "      <td>0.006395</td>\n",
       "      <td>0.004618</td>\n",
       "      <td>-0.009720</td>\n",
       "      <td>-0.000173</td>\n",
       "      <td>0.002017</td>\n",
       "      <td>0.017145</td>\n",
       "    </tr>\n",
       "    <tr>\n",
       "      <th>2021/10/26</th>\n",
       "      <td>0.000900</td>\n",
       "      <td>0.004575</td>\n",
       "      <td>0.006426</td>\n",
       "      <td>0.016775</td>\n",
       "      <td>-0.006274</td>\n",
       "      <td>0.013543</td>\n",
       "      <td>0.006478</td>\n",
       "      <td>-0.039186</td>\n",
       "      <td>0.066952</td>\n",
       "      <td>0.002033</td>\n",
       "      <td>...</td>\n",
       "      <td>-0.002263</td>\n",
       "      <td>0.008121</td>\n",
       "      <td>0.003337</td>\n",
       "      <td>-0.003545</td>\n",
       "      <td>0.000887</td>\n",
       "      <td>-0.118035</td>\n",
       "      <td>0.000476</td>\n",
       "      <td>-0.006752</td>\n",
       "      <td>-0.002013</td>\n",
       "      <td>0.001073</td>\n",
       "    </tr>\n",
       "    <tr>\n",
       "      <th>2021/10/27</th>\n",
       "      <td>-0.004430</td>\n",
       "      <td>-0.003148</td>\n",
       "      <td>0.042114</td>\n",
       "      <td>0.004864</td>\n",
       "      <td>0.019078</td>\n",
       "      <td>0.049595</td>\n",
       "      <td>0.048367</td>\n",
       "      <td>-0.011368</td>\n",
       "      <td>-0.010762</td>\n",
       "      <td>-0.010555</td>\n",
       "      <td>...</td>\n",
       "      <td>-0.014625</td>\n",
       "      <td>-0.007233</td>\n",
       "      <td>-0.012679</td>\n",
       "      <td>-0.052368</td>\n",
       "      <td>-0.014174</td>\n",
       "      <td>-0.002922</td>\n",
       "      <td>-0.017132</td>\n",
       "      <td>-0.054210</td>\n",
       "      <td>-0.022191</td>\n",
       "      <td>-0.011786</td>\n",
       "    </tr>\n",
       "  </tbody>\n",
       "</table>\n",
       "<p>5 rows × 101 columns</p>\n",
       "</div>"
      ],
      "text/plain": [
       "                 SPY      AAPL      MSFT      AMZN      TSLA     GOOGL  \\\n",
       "2021/10/21  0.002608  0.001474  0.010897  0.005842  0.032571  0.000825   \n",
       "2021/10/22 -0.001036 -0.005285 -0.005149 -0.028955  0.017539 -0.030443   \n",
       "2021/10/25  0.005363 -0.000336 -0.003332 -0.004551  0.126616 -0.000869   \n",
       "2021/10/26  0.000900  0.004575  0.006426  0.016775 -0.006274  0.013543   \n",
       "2021/10/27 -0.004430 -0.003148  0.042114  0.004864  0.019078  0.049595   \n",
       "\n",
       "                GOOG        FB      NVDA     BRK-B  ...       PNC      MDLZ  \\\n",
       "2021/10/21  0.002566  0.003228  0.026648 -0.002330  ... -0.000329 -0.002156   \n",
       "2021/10/22 -0.029104 -0.050515  0.001498  0.008437  ...  0.015748  0.005984   \n",
       "2021/10/25  0.001068  0.012569  0.019361  0.003527  ...  0.002221 -0.002974   \n",
       "2021/10/26  0.006478 -0.039186  0.066952  0.002033  ... -0.002263  0.008121   \n",
       "2021/10/27  0.048367 -0.011368 -0.010762 -0.010555  ... -0.014625 -0.007233   \n",
       "\n",
       "                  MO       ADI      GILD       LMT       SYK        GM  \\\n",
       "2021/10/21 -0.004130  0.010683  0.001944  0.005416  0.009789  0.012832   \n",
       "2021/10/22 -0.000207 -0.002181  0.003732  0.003913 -0.002568 -0.010957   \n",
       "2021/10/25 -0.005599  0.011770  0.006395  0.004618 -0.009720 -0.000173   \n",
       "2021/10/26  0.003337 -0.003545  0.000887 -0.118035  0.000476 -0.006752   \n",
       "2021/10/27 -0.012679 -0.052368 -0.014174 -0.002922 -0.017132 -0.054210   \n",
       "\n",
       "                 TFC       TJX  \n",
       "2021/10/21 -0.004696  0.012841  \n",
       "2021/10/22  0.013526 -0.008040  \n",
       "2021/10/25  0.002017  0.017145  \n",
       "2021/10/26 -0.002013  0.001073  \n",
       "2021/10/27 -0.022191 -0.011786  \n",
       "\n",
       "[5 rows x 101 columns]"
      ]
     },
     "execution_count": 13,
     "metadata": {},
     "output_type": "execute_result"
    }
   ],
   "source": [
    "data = pd.read_csv('DailyReturn.csv', index_col=0)\n",
    "data.head()"
   ]
  },
  {
   "cell_type": "code",
   "execution_count": 312,
   "metadata": {},
   "outputs": [],
   "source": [
    "# Problem1 Create a routine for calculating an exponentially weighted covariance matrix.  If you have a \n",
    "# package that calculates it for you, verify that it calculates the values you expect.  This means \n",
    "# you still have to implement it.\n",
    "\n",
    "# first we generate the weight\n",
    "\n",
    "def weight_gen(n, lambd):\n",
    "    weight = np.zeros(n)\n",
    "    for i in range(n):\n",
    "        weight[i] = (1-lambd) * (lambd) ** i\n",
    "    normalized_weight = weight / np.sum(weight)\n",
    "    return normalized_weight\n",
    "\n",
    "#next we generate the covariance matrix\n",
    "def cov_gen(data, weight):\n",
    "    data = data - data.mean()\n",
    "    weight = np.diag(weight)\n",
    "    data_left = weight@data\n",
    "    data_right = np.dot(data.T,data_left)\n",
    "    return data_right"
   ]
  },
  {
   "cell_type": "code",
   "execution_count": 313,
   "metadata": {},
   "outputs": [],
   "source": [
    "# Print the result\n",
    "weight = weight_gen(data.shape[0], 0.97)\n",
    "cov = cov_gen(data, weight)\n"
   ]
  },
  {
   "cell_type": "code",
   "execution_count": 315,
   "metadata": {},
   "outputs": [],
   "source": [
    "# Use PCA and plot the cumulative variance explained by each eigenvalue for λ∈(0,1) each chosen.\n",
    "# calculate th eigenvalue and eigenvector\n",
    "def PCA(cov):\n",
    "    eigenvalue, eigenvector = np.linalg.eig(cov)\n",
    "    #descending order\n",
    "    ziplist = list(zip(eigenvalue, eigenvector))\n",
    "    ziplist.sort(key=lambda x: x[0], reverse=True)\n",
    "    eigenvalue = [x[0] for x in ziplist]\n",
    "    eigenvector = [x[1] for x in ziplist]\n",
    "    #calculate the cumulative variance\n",
    "    explanation = eigenvalue/np.sum(eigenvalue)\n",
    "    cumulative = np.cumsum(explanation)\n",
    "    cumulative[-1] = 1\n",
    "    return cumulative"
   ]
  },
  {
   "cell_type": "code",
   "execution_count": 317,
   "metadata": {},
   "outputs": [
    {
     "name": "stderr",
     "output_type": "stream",
     "text": [
      "/Users/zhaoxiaokuan/anaconda3/lib/python3.7/site-packages/matplotlib/cbook/__init__.py:1298: ComplexWarning: Casting complex values to real discards the imaginary part\n",
      "  return np.asarray(x, float)\n",
      "/Users/zhaoxiaokuan/anaconda3/lib/python3.7/site-packages/matplotlib/cbook/__init__.py:1298: ComplexWarning: Casting complex values to real discards the imaginary part\n",
      "  return np.asarray(x, float)\n",
      "/Users/zhaoxiaokuan/anaconda3/lib/python3.7/site-packages/matplotlib/cbook/__init__.py:1298: ComplexWarning: Casting complex values to real discards the imaginary part\n",
      "  return np.asarray(x, float)\n",
      "/Users/zhaoxiaokuan/anaconda3/lib/python3.7/site-packages/matplotlib/cbook/__init__.py:1298: ComplexWarning: Casting complex values to real discards the imaginary part\n",
      "  return np.asarray(x, float)\n",
      "/Users/zhaoxiaokuan/anaconda3/lib/python3.7/site-packages/matplotlib/cbook/__init__.py:1298: ComplexWarning: Casting complex values to real discards the imaginary part\n",
      "  return np.asarray(x, float)\n",
      "/Users/zhaoxiaokuan/anaconda3/lib/python3.7/site-packages/matplotlib/cbook/__init__.py:1298: ComplexWarning: Casting complex values to real discards the imaginary part\n",
      "  return np.asarray(x, float)\n",
      "/Users/zhaoxiaokuan/anaconda3/lib/python3.7/site-packages/matplotlib/cbook/__init__.py:1298: ComplexWarning: Casting complex values to real discards the imaginary part\n",
      "  return np.asarray(x, float)\n",
      "/Users/zhaoxiaokuan/anaconda3/lib/python3.7/site-packages/matplotlib/cbook/__init__.py:1298: ComplexWarning: Casting complex values to real discards the imaginary part\n",
      "  return np.asarray(x, float)\n",
      "/Users/zhaoxiaokuan/anaconda3/lib/python3.7/site-packages/matplotlib/cbook/__init__.py:1298: ComplexWarning: Casting complex values to real discards the imaginary part\n",
      "  return np.asarray(x, float)\n"
     ]
    },
    {
     "data": {
      "image/png": "[encoded data removed]",
      "text/plain": [
       "<Figure size 576x432 with 1 Axes>"
      ]
     },
     "metadata": {
      "needs_background": "light"
     },
     "output_type": "display_data"
    }
   ],
   "source": [
    "# plot the result\n",
    "lambd = [0.1, 0.25, 0.5, 0.7, 0.9, 0.93, 0.95, 0.97, 0.99]\n",
    "plt.figure(figsize=(8, 6))\n",
    "for i,lambd in enumerate(lambd):\n",
    "    cumulative = PCA(cov_gen(data, weight_gen(data.shape[0], lambd)))\n",
    "    plt.plot(np.arange(0,data.shape[1]), cumulative, label=f\"lambda = {lambd}\")\n",
    "\n",
    "plt.xlabel(\"number of eigenvalues\")\n",
    "plt.ylabel(\"variance explained\")\n",
    "\n",
    "plt.legend()\n",
    "plt.show()\n"
   ]
  },
  {
   "cell_type": "code",
   "execution_count": 355,
   "metadata": {},
   "outputs": [],
   "source": [
    "# Problem2 Implement Higham’s 2002 nearest psd correlation function\n",
    "n = 6\n",
    "Higham = np.zeros((n, n))\n",
    "# make all value in Highim matrix 0.9\n",
    "Higham.fill(0.9)\n",
    "for i in range(n):\n",
    "    Higham[i, i] = 1\n",
    "Higham[0,1] = 0.7357\n",
    "Higham[1,0] = 0.7357"
   ]
  },
  {
   "cell_type": "code",
   "execution_count": 357,
   "metadata": {},
   "outputs": [],
   "source": [
    "# implement chol_psd()\n",
    "def chol_psd(a):\n",
    "    n = a.shape[1]\n",
    "    #Initialize the root matrix with 0 values\n",
    "    root = np.zeros((n,n))\n",
    "    #loop over columns\n",
    "    for j in range(n):\n",
    "        s = 0\n",
    "        #if we are not on the first column, calculate the dot product of the preceeding row values.\n",
    "        if j>0:\n",
    "            s = root[j,0:j].T@root[j,0:j]\n",
    "        temp = a[j,j] - s\n",
    "        # here temp is the critical value, when temp>=-1e-3, there is no nan but still invalid answer, but it is close\n",
    "        if temp<=0 and temp>=-1e-3:\n",
    "            temp = 0\n",
    "        root[j,j] = np.sqrt(temp)\n",
    "        #Check for the 0 eigan value.  Just set the column to 0 if we have one\n",
    "        if root[j,j] == 0:\n",
    "            for i in range(j,n):\n",
    "                root[j,i] = 0\n",
    "        else:\n",
    "            ir = 1/root[j,j]\n",
    "            for i in range(j+1,n):\n",
    "                s = root[i,0:j].T@root[j,0:j]\n",
    "                root[i,j] = (a[i,j] - s) * ir\n",
    "    return root\n"
   ]
  },
  {
   "cell_type": "code",
   "execution_count": 221,
   "metadata": {},
   "outputs": [
    {
     "name": "stdout",
     "output_type": "stream",
     "text": [
      "1\n",
      "1\n",
      "1\n"
     ]
    },
    {
     "data": {
      "text/plain": [
       "array([[ 1.        ,  0.        ,  0.        ,  0.        ,  0.        ,\n",
       "         0.        ],\n",
       "       [ 0.7357    ,  0.67730754,  0.        ,  0.        ,  0.        ,\n",
       "         0.        ],\n",
       "       [ 0.9       ,  0.3511994 ,  0.25818401,  0.        ,  0.        ,\n",
       "         0.        ],\n",
       "       [ 0.9       ,  0.3511994 , -0.12913664,  0.22356814,  0.        ,\n",
       "         0.        ],\n",
       "       [ 0.9       ,  0.3511994 , -0.12913664, -0.22372278,  0.        ,\n",
       "         0.        ],\n",
       "       [ 0.9       ,  0.3511994 , -0.12913664, -0.22372278,  0.        ,\n",
       "         0.        ]])"
      ]
     },
     "execution_count": 221,
     "metadata": {},
     "output_type": "execute_result"
    }
   ],
   "source": [
    "root = chol_psd(Higham)\n",
    "root"
   ]
  },
  {
   "cell_type": "code",
   "execution_count": 222,
   "metadata": {},
   "outputs": [
    {
     "data": {
      "text/plain": [
       "array([[1.        , 0.7357    , 0.9       , 0.9       , 0.9       ,\n",
       "        0.9       ],\n",
       "       [0.7357    , 1.        , 0.9       , 0.9       , 0.9       ,\n",
       "        0.9       ],\n",
       "       [0.9       , 0.9       , 1.        , 0.9       , 0.9       ,\n",
       "        0.9       ],\n",
       "       [0.9       , 0.9       , 0.9       , 1.        , 0.9       ,\n",
       "        0.9       ],\n",
       "       [0.9       , 0.9       , 0.9       , 0.9       , 1.00006917,\n",
       "        1.00006917],\n",
       "       [0.9       , 0.9       , 0.9       , 0.9       , 1.00006917,\n",
       "        1.00006917]])"
      ]
     },
     "execution_count": 222,
     "metadata": {},
     "output_type": "execute_result"
    }
   ],
   "source": [
    "root@root.T"
   ]
  },
  {
   "cell_type": "code",
   "execution_count": 250,
   "metadata": {},
   "outputs": [],
   "source": [
    "# implement near_psd()\n",
    "def near_psd(a, epsilon = 0.0):\n",
    "    is_cov = False\n",
    "    for i in np.diag(a):\n",
    "        if abs(i-1)>1e-8:\n",
    "            is_cov = True\n",
    "        else:\n",
    "            is_cov = False\n",
    "            break\n",
    "    if is_cov:\n",
    "        invSD = np.diag(1/np.sqrt(np.diag(a)))\n",
    "        a = invSD@a@invSD\n",
    "    vals, vecs = np.linalg.eigh(a)\n",
    "    vals = np.array([max(i,epsilon) for i in vals])\n",
    "    T = 1/(np.square(vecs) @ vals)\n",
    "    T = np.diag(np.sqrt(T))\n",
    "    l = np.diag(np.sqrt(vals))\n",
    "    B  = T @ vecs @ l\n",
    "    out = B @ B.T\n",
    "    if is_cov:\n",
    "        invSD = np.diag(1/np.diag(invSD))\n",
    "        out = invSD @ out @ invSD\n",
    "    return out\n"
   ]
  },
  {
   "cell_type": "code",
   "execution_count": 251,
   "metadata": {},
   "outputs": [
    {
     "data": {
      "text/plain": [
       "array([[1.        , 0.73665202, 0.89624601, 0.89624601, 0.89624601,\n",
       "        0.89624601],\n",
       "       [0.73665202, 1.        , 0.89624601, 0.89624601, 0.89624601,\n",
       "        0.89624601],\n",
       "       [0.89624601, 0.89624601, 1.        , 0.900085  , 0.900085  ,\n",
       "        0.900085  ],\n",
       "       [0.89624601, 0.89624601, 0.900085  , 1.        , 0.900085  ,\n",
       "        0.900085  ],\n",
       "       [0.89624601, 0.89624601, 0.900085  , 0.900085  , 1.        ,\n",
       "        0.900085  ],\n",
       "       [0.89624601, 0.89624601, 0.900085  , 0.900085  , 0.900085  ,\n",
       "        1.        ]])"
      ]
     },
     "execution_count": 251,
     "metadata": {},
     "output_type": "execute_result"
    }
   ],
   "source": [
    "root = near_psd(Higham)\n",
    "root"
   ]
  },
  {
   "cell_type": "code",
   "execution_count": 265,
   "metadata": {},
   "outputs": [],
   "source": [
    "#Implement Higham’s 2002 nearest psd correlation function\n",
    "def Frobenius_Norm(a):\n",
    "    return np.sqrt(np.sum(np.square(a)))\n",
    "\n",
    "def projection_u(a):\n",
    "    np.fill_diagonal(a, 1.0)\n",
    "    return a\n",
    "\n",
    "# A note here, epsilon is the smallest eigenvalue, 0 does not work well here, will still generate very small negativa values, so I set it to 1e-7\n",
    "def projection_s(a, epsilon = 1e-7):\n",
    "    vals, vecs = np.linalg.eigh(a)\n",
    "    vals = np.array([max(i,epsilon) for i in vals])\n",
    "    return vecs@np.diag(vals)@vecs.T\n",
    "\n",
    "def Higham_method(a, tol = 1e-8):\n",
    "    s = 0\n",
    "    gamma = np.inf\n",
    "    y = a\n",
    "    # iteration\n",
    "    while True:\n",
    "        r = y - s\n",
    "        x = projection_s(r) \n",
    "        s = x - r\n",
    "        y = projection_u(x)\n",
    "        gamma_next = Frobenius_Norm(y-a)\n",
    "        if abs(gamma - gamma_next) < tol:\n",
    "            break\n",
    "        gamma = gamma_next\n",
    "    return y\n"
   ]
  },
  {
   "cell_type": "code",
   "execution_count": 253,
   "metadata": {},
   "outputs": [],
   "source": [
    "n = 500\n",
    "Higham_500 = np.zeros((n, n))\n",
    "# make all value in Highim matrix 0.9\n",
    "Higham_500.fill(0.9)\n",
    "for i in range(n):\n",
    "    Higham_500[i, i] = 1\n",
    "Higham_500[0,1] = 0.7357\n",
    "Higham_500[1,0] = 0.7357"
   ]
  },
  {
   "cell_type": "code",
   "execution_count": 254,
   "metadata": {},
   "outputs": [],
   "source": [
    "def is_psd(matrix):\n",
    "    eigenvalues = np.linalg.eigvals(matrix)\n",
    "    return np.all(eigenvalues >= 0)"
   ]
  },
  {
   "cell_type": "code",
   "execution_count": 268,
   "metadata": {},
   "outputs": [
    {
     "name": "stdout",
     "output_type": "stream",
     "text": [
      "True\n",
      "True\n"
     ]
    }
   ],
   "source": [
    "print(is_psd(near_psd(Higham_500)))\n",
    "print(is_psd(Higham_method(Higham_500)))"
   ]
  },
  {
   "cell_type": "code",
   "execution_count": 270,
   "metadata": {},
   "outputs": [
    {
     "name": "stdout",
     "output_type": "stream",
     "text": [
      "0.6275226557679096\n",
      "0.08964812832882717\n"
     ]
    }
   ],
   "source": [
    "# Comparing the Frobenius norm of the difference between the original matrix and the output of the two functions\n",
    "print(Frobenius_Norm(near_psd(Higham_500)-Higham_500))\n",
    "print(Frobenius_Norm(Higham_method(Higham_500)-Higham_500))"
   ]
  },
  {
   "cell_type": "code",
   "execution_count": 272,
   "metadata": {},
   "outputs": [],
   "source": [
    "def Higham_with_n(n):\n",
    "    Higham = np.zeros((n, n))\n",
    "    # make all value in Highim matrix 0.9\n",
    "    Higham.fill(0.9)\n",
    "    for i in range(n):\n",
    "        Higham[i, i] = 1\n",
    "    Higham[0,1] = 0.7357\n",
    "    Higham[1,0] = 0.7357\n",
    "    return Higham"
   ]
  },
  {
   "cell_type": "code",
   "execution_count": 277,
   "metadata": {},
   "outputs": [],
   "source": [
    "import timeit\n",
    "n = [100, 300, 500, 700,1000]\n",
    "Higham_method_time = []\n",
    "Near_psd_time = []\n",
    "for i in n:\n",
    "    Higham = Higham_with_n(i)\n",
    "    Higham_method_time.append(timeit.timeit(lambda: Higham_method(Higham), number=1))\n",
    "    Near_psd_time.append(timeit.timeit(lambda: near_psd(Higham), number=1))"
   ]
  },
  {
   "cell_type": "code",
   "execution_count": 279,
   "metadata": {},
   "outputs": [
    {
     "data": {
      "image/png": "[encoded data removed]",
      "text/plain": [
       "<Figure size 576x432 with 1 Axes>"
      ]
     },
     "metadata": {
      "needs_background": "light"
     },
     "output_type": "display_data"
    }
   ],
   "source": [
    "plt.figure(figsize=(8,6))\n",
    "plt.plot(n, Higham_method_time, label = \"Higham_method\")\n",
    "plt.plot(n, Near_psd_time, label = \"Near_psd\")\n",
    "plt.legend()\n",
    "plt.xlabel(\"n\")\n",
    "plt.ylabel(\"Time\")\n",
    "plt.show()"
   ]
  },
  {
   "cell_type": "code",
   "execution_count": 280,
   "metadata": {},
   "outputs": [],
   "source": [
    "Higham_method_frob = []\n",
    "Near_psd_frob = []\n",
    "for i in n:\n",
    "    Higham = Higham_with_n(i)\n",
    "    Higham_method_frob.append(Frobenius_Norm(Higham_method(Higham) - Higham))\n",
    "    Near_psd_frob.append(Frobenius_Norm(near_psd(Higham) - Higham))"
   ]
  },
  {
   "cell_type": "code",
   "execution_count": 281,
   "metadata": {},
   "outputs": [
    {
     "data": {
      "image/png": "[encoded data removed]",
      "text/plain": [
       "<Figure size 576x432 with 1 Axes>"
      ]
     },
     "metadata": {
      "needs_background": "light"
     },
     "output_type": "display_data"
    }
   ],
   "source": [
    "plt.figure(figsize=(8,6))\n",
    "plt.plot(n, Higham_method_frob, label = \"Higham_method\")\n",
    "plt.plot(n, Near_psd_frob, label = \"Near_psd\")\n",
    "plt.legend()\n",
    "plt.xlabel(\"n\")\n",
    "plt.ylabel(\"Frobeinuis Norm\")\n",
    "plt.show()"
   ]
  },
  {
   "cell_type": "code",
   "execution_count": 284,
   "metadata": {},
   "outputs": [],
   "source": [
    "# Problem 3\n",
    "# Implement a multivariate normal simulation that allows for simulation directly from a covariance matrix\n",
    "# running simulations, equally corr; expoentially cov; vice versa\n",
    "\n",
    "def multivariate_normal_distribution(cov, num_of_simulation=25000):\n",
    "    return chol_psd(cov) @ np.random.normal(size=(cov.shape[0], num_of_simulation))"
   ]
  },
  {
   "cell_type": "code",
   "execution_count": 321,
   "metadata": {},
   "outputs": [],
   "source": [
    "# Generate the four combination of covariance matrixs\n",
    "# variance matrix\n",
    "def var(cov):\n",
    "    return np.diag(cov)\n",
    "# Correlation matrix\n",
    "def corr(cov):\n",
    "    return np.diag(1/np.sqrt(var(cov))) @ cov @ np.diag(1/np.sqrt(var(cov))).T\n",
    "# Covariance matrix\n",
    "def cov(var, cor):\n",
    "    std = np.sqrt(var)\n",
    "    return np.diag(std) @ cor @ np.diag(std).T"
   ]
  },
  {
   "cell_type": "code",
   "execution_count": 322,
   "metadata": {},
   "outputs": [],
   "source": [
    "ew_cov = cov_gen(data, weight_gen(data.shape[0], 0.97))\n",
    "normal_cov = np.cov(data.T)\n",
    "norm_corr_normal_var = cov(var(normal_cov), corr(normal_cov))\n",
    "ew_corr_normal_var = cov(var(normal_cov), corr(ew_cov))\n",
    "normal_corr_ew_var = cov(var(ew_cov), corr(normal_cov))\n",
    "ew_corr_ew_var = cov(var(ew_cov), corr(ew_cov))\n"
   ]
  },
  {
   "cell_type": "code",
   "execution_count": 391,
   "metadata": {},
   "outputs": [],
   "source": [
    "# using PCA with an optional parameter for % variance explained.\n",
    "def PCA_with_percent(cov, percent = 0.95, num_of_simulation = 25000):\n",
    "    eigenvalue, eigenvector = np.linalg.eigh(cov)\n",
    "    total = np.sum(eigenvalue)\n",
    "    for i in range(cov.shape[0]):\n",
    "        i = len(eigenvalue)-i-1\n",
    "        if eigenvalue[i]<0:\n",
    "            eigenvalue = eigenvalue[i+1:]\n",
    "            eigenvector = eigenvector[:,i+1:]\n",
    "            break\n",
    "        if sum(eigenvalue[i:])/total > percent:\n",
    "            eigenvalue = eigenvalue[i:]\n",
    "            eigenvector = eigenvector[:,i:]\n",
    "            break\n",
    "    simulate = np.random.normal(size = (len(eigenvalue),num_of_simulation))\n",
    "    return eigenvector @ np.diag(np.sqrt(eigenvalue)) @ simulate\n"
   ]
  },
  {
   "cell_type": "code",
   "execution_count": 392,
   "metadata": {},
   "outputs": [
    {
     "data": {
      "image/png": "[encoded data removed]",
      "text/plain": [
       "<Figure size 576x432 with 1 Axes>"
      ]
     },
     "metadata": {
      "needs_background": "light"
     },
     "output_type": "display_data"
    },
    {
     "data": {
      "image/png": "[encoded data removed]",
      "text/plain": [
       "<Figure size 576x432 with 1 Axes>"
      ]
     },
     "metadata": {
      "needs_background": "light"
     },
     "output_type": "display_data"
    },
    {
     "data": {
      "image/png": "[encoded data removed]",
      "text/plain": [
       "<Figure size 576x432 with 1 Axes>"
      ]
     },
     "metadata": {
      "needs_background": "light"
     },
     "output_type": "display_data"
    },
    {
     "data": {
      "image/png": "[encoded data removed]",
      "text/plain": [
       "<Figure size 576x432 with 1 Axes>"
      ]
     },
     "metadata": {
      "needs_background": "light"
     },
     "output_type": "display_data"
    }
   ],
   "source": [
    "covs = [norm_corr_normal_var, ew_corr_normal_var, normal_corr_ew_var, ew_corr_ew_var]\n",
    "title = [\"norm_corr_normal_var\", \"ew_corr_normal_var\", \"normal_corr_ew_var\", \"ew_corr_ew_var\"]\n",
    "for i in range(len(covs)):\n",
    "    plt.figure(i,figsize=(8,6))\n",
    "    plt.title(title[i])\n",
    "    cov = covs[i]\n",
    "    data1 = multivariate_normal_distribution(cov,25000)\n",
    "    data2 = PCA_with_percent(cov, 1, 25000)\n",
    "    data3 = PCA_with_percent(cov, 0.75, 25000)\n",
    "    data4 = PCA_with_percent(cov, 0.5, 25000)\n",
    "    plt.bar(\"Direct Simulation\",Frobenius_Norm(cov-np.cov(data1)))\n",
    "    plt.bar(\"PCA with 100%\",Frobenius_Norm(cov-np.cov(data2)))\n",
    "    plt.bar(\"PCA with 75%\",Frobenius_Norm(cov-np.cov(data3)))\n",
    "    plt.bar(\"PCA with 50%\",Frobenius_Norm(cov-np.cov(data4)))\n",
    "    plt.show()\n"
   ]
  },
  {
   "cell_type": "code",
   "execution_count": 399,
   "metadata": {},
   "outputs": [
    {
     "data": {
      "image/png": "[encoded data removed]",
      "text/plain": [
       "<Figure size 576x432 with 1 Axes>"
      ]
     },
     "metadata": {
      "needs_background": "light"
     },
     "output_type": "display_data"
    },
    {
     "data": {
      "image/png": "[encoded data removed]",
      "text/plain": [
       "<Figure size 576x432 with 1 Axes>"
      ]
     },
     "metadata": {
      "needs_background": "light"
     },
     "output_type": "display_data"
    },
    {
     "data": {
      "image/png": "[encoded data removed]",
      "text/plain": [
       "<Figure size 576x432 with 1 Axes>"
      ]
     },
     "metadata": {
      "needs_background": "light"
     },
     "output_type": "display_data"
    },
    {
     "data": {
      "image/png": "[encoded data removed]",
      "text/plain": [
       "<Figure size 576x432 with 1 Axes>"
      ]
     },
     "metadata": {
      "needs_background": "light"
     },
     "output_type": "display_data"
    }
   ],
   "source": [
    "# Compare runtime\n",
    "import time\n",
    "covs = [norm_corr_normal_var, ew_corr_normal_var, normal_corr_ew_var, ew_corr_ew_var]\n",
    "title = [\"norm_corr_normal_var\", \"ew_corr_normal_var\", \"normal_corr_ew_var\", \"ew_corr_ew_var\"]\n",
    "for i in range(len(covs)):\n",
    "    plt.figure(i,figsize=(8,6))\n",
    "    plt.title(title[i])\n",
    "    cov = covs[i]\n",
    "    start = time.time()\n",
    "    time_data1 = multivariate_normal_distribution(cov,25000)\n",
    "    end1 = time.time() - start\n",
    "    start = time.time()\n",
    "    time_data2 = PCA_with_percent(cov, 1, 25000)\n",
    "    end2 = time.time() - start\n",
    "    start = time.time()\n",
    "    time_data3 = PCA_with_percent(cov, 0.75, 25000)\n",
    "    end3 = time.time() - start\n",
    "    start = time.time()    \n",
    "    time_data4 = PCA_with_percent(cov, 0.5, 25000)\n",
    "    end4 = time.time() - start\n",
    "    plt.bar(\"Direct Simulation\",end1)\n",
    "    plt.bar(\"PCA with 100%\",end2)\n",
    "    plt.bar(\"PCA with 75%\",end3)\n",
    "    plt.bar(\"PCA with 50%\",end4)\n",
    "    plt.show()"
   ]
  }
 ],
 "metadata": {
  "kernelspec": {
   "display_name": "base",
   "language": "python",
   "name": "python3"
  },
  "language_info": {
   "codemirror_mode": {
    "name": "ipython",
    "version": 3
   },
   "file_extension": ".py",
   "mimetype": "text/x-python",
   "name": "python",
   "nbconvert_exporter": "python",
   "pygments_lexer": "ipython3",
   "version": "3.7.2"
  },
  "orig_nbformat": 4,
  "vscode": {
   "interpreter": {
    "hash": "dc1b3402593015815fa502f600fec9937e23a463d3ef930101a05f315a838afd"
   }
  }
 },
 "nbformat": 4,
 "nbformat_minor": 2
}
