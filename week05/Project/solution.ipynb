{
 "cells": [
  {
   "cell_type": "code",
   "execution_count": 4,
   "metadata": {},
   "outputs": [],
   "source": [
    "import pandas as pd\n",
    "import numpy as np\n",
    "import matplotlib.pyplot as plt\n",
    "%matplotlib inline\n",
    "from scipy.stats import norm, t\n",
    "import riskmgmlib as rml"
   ]
  },
  {
   "cell_type": "code",
   "execution_count": 68,
   "metadata": {},
   "outputs": [
    {
     "data": {
      "text/html": [
       "<div>\n",
       "<style scoped>\n",
       "    .dataframe tbody tr th:only-of-type {\n",
       "        vertical-align: middle;\n",
       "    }\n",
       "\n",
       "    .dataframe tbody tr th {\n",
       "        vertical-align: top;\n",
       "    }\n",
       "\n",
       "    .dataframe thead th {\n",
       "        text-align: right;\n",
       "    }\n",
       "</style>\n",
       "<table border=\"1\" class=\"dataframe\">\n",
       "  <thead>\n",
       "    <tr style=\"text-align: right;\">\n",
       "      <th></th>\n",
       "      <th>x</th>\n",
       "    </tr>\n",
       "  </thead>\n",
       "  <tbody>\n",
       "    <tr>\n",
       "      <th>0</th>\n",
       "      <td>-0.002665</td>\n",
       "    </tr>\n",
       "    <tr>\n",
       "      <th>1</th>\n",
       "      <td>-0.045128</td>\n",
       "    </tr>\n",
       "    <tr>\n",
       "      <th>2</th>\n",
       "      <td>0.053635</td>\n",
       "    </tr>\n",
       "    <tr>\n",
       "      <th>3</th>\n",
       "      <td>0.010450</td>\n",
       "    </tr>\n",
       "    <tr>\n",
       "      <th>4</th>\n",
       "      <td>-0.016284</td>\n",
       "    </tr>\n",
       "  </tbody>\n",
       "</table>\n",
       "</div>"
      ],
      "text/plain": [
       "          x\n",
       "0 -0.002665\n",
       "1 -0.045128\n",
       "2  0.053635\n",
       "3  0.010450\n",
       "4 -0.016284"
      ]
     },
     "execution_count": 68,
     "metadata": {},
     "output_type": "execute_result"
    }
   ],
   "source": [
    "#Problem 1\n",
    "#Use the data in problem1.csv.  Fit a Normal Distribution and a Generalized T distribution to this data. \n",
    "#Calculate the VaR and ES for both fitted distributions.\n",
    "\n",
    "data = pd.read_csv('problem1.csv')\n",
    "data.head()"
   ]
  },
  {
   "cell_type": "code",
   "execution_count": 69,
   "metadata": {},
   "outputs": [],
   "source": [
    "# Fit a normal distribution to the data:\n",
    "mu, std = norm.fit(data)\n",
    "# Fit a t distribution to the data:\n",
    "df, loc, scale = t.fit(data)"
   ]
  },
  {
   "cell_type": "code",
   "execution_count": 70,
   "metadata": {},
   "outputs": [],
   "source": [
    "n = 10000\n",
    "normal_data = norm.rvs(mu, std, size=n)\n",
    "t_data = t.rvs(df, loc, scale, size=n)"
   ]
  },
  {
   "cell_type": "code",
   "execution_count": 71,
   "metadata": {},
   "outputs": [],
   "source": [
    "# Calculate VaR for both distributions:\n",
    "normal_var = rml.calculate_var(normal_data)\n",
    "t_var = rml.calculate_var(t_data)"
   ]
  },
  {
   "cell_type": "code",
   "execution_count": 72,
   "metadata": {},
   "outputs": [],
   "source": [
    "def calculate_es(data, mean = 0, alpha=0.05):\n",
    "    return -np.mean(data[data<-rml.calculate_var(data, mean, alpha)])"
   ]
  },
  {
   "cell_type": "code",
   "execution_count": 73,
   "metadata": {},
   "outputs": [],
   "source": [
    "# Calculate ES for both distributions:\n",
    "normal_es = calculate_es(normal_data)\n",
    "t_es = calculate_es(t_data)"
   ]
  },
  {
   "cell_type": "code",
   "execution_count": 76,
   "metadata": {},
   "outputs": [],
   "source": [
    "xnorm = np.linspace(-0.5, 0.5, num=100)\n",
    "pdf = norm.pdf(xnorm, mu, std)\n",
    "\n",
    "xnorm = np.linspace(-0.5, 0.5, num=100)\n",
    "pdft = t.pdf(xnorm, df, loc, scale)"
   ]
  },
  {
   "cell_type": "code",
   "execution_count": 77,
   "metadata": {},
   "outputs": [
    {
     "data": {
      "image/png": "[encoded data removed]",
      "text/plain": [
       "<Figure size 720x432 with 1 Axes>"
      ]
     },
     "metadata": {
      "needs_background": "light"
     },
     "output_type": "display_data"
    }
   ],
   "source": [
    "plt.figure(figsize=(10,6))\n",
    "plt.hist(data, bins=100, density=True, alpha=0.5, label='Origin data')\n",
    "plt.hist(normal_data, bins=100, density=True, alpha=0.5, label='Normal')\n",
    "plt.hist(t_data, bins=100, density=True, alpha=0.5, label='T')\n",
    "plt.plot(xnorm, pdf, label = 'Normal Distribution')\n",
    "plt.plot(xnorm, pdft, label = 'T Distribution')\n",
    "plt.axvline(-normal_var, color='r', linestyle='--', label='Normal VaR')\n",
    "plt.axvline(-t_var, color='g', linestyle='--', label='T VaR')\n",
    "plt.axvline(-normal_es, color='r', linestyle='-', label='Normal ES')\n",
    "plt.axvline(-t_es, color='g', linestyle='-', label='T ES')\n",
    "plt.legend()\n",
    "plt.show()"
   ]
  },
  {
   "cell_type": "code",
   "execution_count": 2,
   "metadata": {},
   "outputs": [
    {
     "name": "stdout",
     "output_type": "stream",
     "text": [
      "(249,)\n",
      "(100, 100)\n"
     ]
    }
   ],
   "source": [
    "#Problem 2\n",
    "data = pd.read_csv(\"DailyPrices.csv\", index_col=0)\n",
    "#1. Covariance estimation techniques.\n",
    "weights = rml.weight_gen(len(data.iloc[:,0]), 0.94)\n",
    "print(weights.shape)\n",
    "cov = rml.ewcov_gen(data, weights)\n",
    "print(cov.shape)"
   ]
  },
  {
   "cell_type": "code",
   "execution_count": 3,
   "metadata": {},
   "outputs": [
    {
     "name": "stdout",
     "output_type": "stream",
     "text": [
      "True\n",
      "True\n"
     ]
    }
   ],
   "source": [
    "#2. Non PSD fixes for correlation matrices\n",
    "n = 500\n",
    "sigma = np.matrix(np.full((n, n), 0.9))\n",
    "np.fill_diagonal(sigma, 1)\n",
    "sigma[0, 1] = 0.7357\n",
    "sigma[1, 0] = 0.7357\n",
    "\n",
    "near_psd_matrix = rml.near_psd(sigma)\n",
    "print(rml.is_psd(near_psd_matrix))\n",
    "higham_psd_matrix = rml.Higham_method(sigma)\n",
    "print(rml.is_psd(higham_psd_matrix))\n"
   ]
  },
  {
   "cell_type": "code",
   "execution_count": 6,
   "metadata": {},
   "outputs": [
    {
     "name": "stdout",
     "output_type": "stream",
     "text": [
      "(100, 25000)\n",
      "(100, 25000)\n"
     ]
    }
   ],
   "source": [
    "#3. Simulation Methods\n",
    "direct_sim = rml.sim_mvn_from_cov(cov)\n",
    "print(direct_sim.shape)\n",
    "pca_sim = rml.PCA_with_percent(cov)\n",
    "print(pca_sim.shape)"
   ]
  },
  {
   "cell_type": "code",
   "execution_count": 3,
   "metadata": {},
   "outputs": [
    {
     "name": "stdout",
     "output_type": "stream",
     "text": [
      "0.026494622000999415\n",
      "0.024982712591409068\n",
      "0.024603334755427\n",
      "0.024622680568166716\n",
      "0.026494622000999415\n"
     ]
    }
   ],
   "source": [
    "#4. VaR calculation methods (all discussed)\n",
    "samplePrice = data.iloc[:,0]\n",
    "samplereturn = rml.return_calculate(samplePrice)\n",
    "samplereturn = samplereturn - np.mean(samplereturn)\n",
    "\n",
    "print(rml.calculate_var(samplereturn))\n",
    "print(rml.normal_var(samplereturn))\n",
    "print(rml.ewcov_normal_var(samplereturn))\n",
    "print(rml.t_var(samplereturn))\n",
    "print(rml.historic_var(samplereturn))"
   ]
  },
  {
   "cell_type": "code",
   "execution_count": 4,
   "metadata": {},
   "outputs": [
    {
     "name": "stdout",
     "output_type": "stream",
     "text": [
      "0.0334133178127693\n"
     ]
    }
   ],
   "source": [
    "#5. ES calculation\n",
    "es = rml.calculate_es(samplereturn)\n",
    "print(es)"
   ]
  },
  {
   "cell_type": "code",
   "execution_count": 10,
   "metadata": {},
   "outputs": [],
   "source": [
    "# Problem 3\n",
    "\n",
    "# Use your repository from #2.\n",
    "# Using Portfolio.csv and DailyPrices.csv.  Assume the expected return on all stocks is 0.\n",
    "# This file contains the stock holdings of 3 portfolios.  You own each of these portfolios.\n",
    "# Fit a Generalized T model to each stock and calculate the VaR and ES of each portfolio as well as your\n",
    "# total VaR and ES.  Compare the results from this to your VaR form Problem 3 from Week 4."
   ]
  },
  {
   "cell_type": "code",
   "execution_count": 64,
   "metadata": {},
   "outputs": [],
   "source": [
    "portfolio = pd.read_csv(\"Portfolio.csv\")\n",
    "dailyPrice = pd.read_csv(\"DailyPrices.csv\", index_col=0)"
   ]
  },
  {
   "cell_type": "code",
   "execution_count": 6,
   "metadata": {},
   "outputs": [
    {
     "data": {
      "text/html": [
       "<div>\n",
       "<style scoped>\n",
       "    .dataframe tbody tr th:only-of-type {\n",
       "        vertical-align: middle;\n",
       "    }\n",
       "\n",
       "    .dataframe tbody tr th {\n",
       "        vertical-align: top;\n",
       "    }\n",
       "\n",
       "    .dataframe thead th {\n",
       "        text-align: right;\n",
       "    }\n",
       "</style>\n",
       "<table border=\"1\" class=\"dataframe\">\n",
       "  <thead>\n",
       "    <tr style=\"text-align: right;\">\n",
       "      <th></th>\n",
       "      <th>SPY</th>\n",
       "      <th>AAPL</th>\n",
       "      <th>MSFT</th>\n",
       "      <th>AMZN</th>\n",
       "      <th>TSLA</th>\n",
       "      <th>GOOGL</th>\n",
       "      <th>GOOG</th>\n",
       "      <th>META</th>\n",
       "      <th>NVDA</th>\n",
       "      <th>BRK-B</th>\n",
       "      <th>...</th>\n",
       "      <th>PNC</th>\n",
       "      <th>MDLZ</th>\n",
       "      <th>MO</th>\n",
       "      <th>ADI</th>\n",
       "      <th>GILD</th>\n",
       "      <th>LMT</th>\n",
       "      <th>SYK</th>\n",
       "      <th>GM</th>\n",
       "      <th>TFC</th>\n",
       "      <th>TJX</th>\n",
       "    </tr>\n",
       "  </thead>\n",
       "  <tbody>\n",
       "    <tr>\n",
       "      <th>0</th>\n",
       "      <td>0.016127</td>\n",
       "      <td>0.023152</td>\n",
       "      <td>0.018542</td>\n",
       "      <td>0.008658</td>\n",
       "      <td>0.053291</td>\n",
       "      <td>0.007987</td>\n",
       "      <td>0.008319</td>\n",
       "      <td>0.015158</td>\n",
       "      <td>0.091812</td>\n",
       "      <td>0.006109</td>\n",
       "      <td>...</td>\n",
       "      <td>0.012807</td>\n",
       "      <td>-0.004082</td>\n",
       "      <td>0.004592</td>\n",
       "      <td>0.052344</td>\n",
       "      <td>0.003600</td>\n",
       "      <td>-0.012275</td>\n",
       "      <td>0.033021</td>\n",
       "      <td>0.026240</td>\n",
       "      <td>0.028572</td>\n",
       "      <td>0.013237</td>\n",
       "    </tr>\n",
       "    <tr>\n",
       "      <th>1</th>\n",
       "      <td>0.001121</td>\n",
       "      <td>-0.001389</td>\n",
       "      <td>-0.001167</td>\n",
       "      <td>0.010159</td>\n",
       "      <td>0.001041</td>\n",
       "      <td>0.008268</td>\n",
       "      <td>0.007784</td>\n",
       "      <td>-0.020181</td>\n",
       "      <td>0.000604</td>\n",
       "      <td>-0.001739</td>\n",
       "      <td>...</td>\n",
       "      <td>0.006757</td>\n",
       "      <td>-0.002429</td>\n",
       "      <td>0.005763</td>\n",
       "      <td>0.038879</td>\n",
       "      <td>0.009294</td>\n",
       "      <td>0.012244</td>\n",
       "      <td>0.003363</td>\n",
       "      <td>0.015301</td>\n",
       "      <td>-0.001389</td>\n",
       "      <td>-0.025984</td>\n",
       "    </tr>\n",
       "    <tr>\n",
       "      <th>2</th>\n",
       "      <td>-0.021361</td>\n",
       "      <td>-0.021269</td>\n",
       "      <td>-0.029282</td>\n",
       "      <td>-0.021809</td>\n",
       "      <td>-0.050943</td>\n",
       "      <td>-0.037746</td>\n",
       "      <td>-0.037669</td>\n",
       "      <td>-0.040778</td>\n",
       "      <td>-0.075591</td>\n",
       "      <td>-0.006653</td>\n",
       "      <td>...</td>\n",
       "      <td>-0.034949</td>\n",
       "      <td>0.005326</td>\n",
       "      <td>0.015017</td>\n",
       "      <td>-0.046988</td>\n",
       "      <td>-0.009855</td>\n",
       "      <td>0.004833</td>\n",
       "      <td>-0.030857</td>\n",
       "      <td>-0.031925</td>\n",
       "      <td>-0.033380</td>\n",
       "      <td>-0.028763</td>\n",
       "    </tr>\n",
       "    <tr>\n",
       "      <th>3</th>\n",
       "      <td>-0.006475</td>\n",
       "      <td>-0.009356</td>\n",
       "      <td>-0.009631</td>\n",
       "      <td>-0.013262</td>\n",
       "      <td>-0.022103</td>\n",
       "      <td>-0.016116</td>\n",
       "      <td>-0.013914</td>\n",
       "      <td>-0.007462</td>\n",
       "      <td>-0.035296</td>\n",
       "      <td>0.003987</td>\n",
       "      <td>...</td>\n",
       "      <td>-0.000646</td>\n",
       "      <td>-0.000908</td>\n",
       "      <td>0.007203</td>\n",
       "      <td>-0.000436</td>\n",
       "      <td>-0.003916</td>\n",
       "      <td>-0.005942</td>\n",
       "      <td>-0.013674</td>\n",
       "      <td>-0.004506</td>\n",
       "      <td>-0.003677</td>\n",
       "      <td>0.015038</td>\n",
       "    </tr>\n",
       "    <tr>\n",
       "      <th>4</th>\n",
       "      <td>-0.010732</td>\n",
       "      <td>-0.017812</td>\n",
       "      <td>-0.000729</td>\n",
       "      <td>-0.015753</td>\n",
       "      <td>-0.041366</td>\n",
       "      <td>-0.004521</td>\n",
       "      <td>-0.008163</td>\n",
       "      <td>-0.019790</td>\n",
       "      <td>-0.010659</td>\n",
       "      <td>-0.002033</td>\n",
       "      <td>...</td>\n",
       "      <td>0.009494</td>\n",
       "      <td>0.007121</td>\n",
       "      <td>-0.008891</td>\n",
       "      <td>0.003243</td>\n",
       "      <td>-0.001147</td>\n",
       "      <td>-0.000673</td>\n",
       "      <td>0.008342</td>\n",
       "      <td>-0.037654</td>\n",
       "      <td>-0.002246</td>\n",
       "      <td>-0.013605</td>\n",
       "    </tr>\n",
       "  </tbody>\n",
       "</table>\n",
       "<p>5 rows × 100 columns</p>\n",
       "</div>"
      ],
      "text/plain": [
       "        SPY      AAPL      MSFT      AMZN      TSLA     GOOGL      GOOG  \\\n",
       "0  0.016127  0.023152  0.018542  0.008658  0.053291  0.007987  0.008319   \n",
       "1  0.001121 -0.001389 -0.001167  0.010159  0.001041  0.008268  0.007784   \n",
       "2 -0.021361 -0.021269 -0.029282 -0.021809 -0.050943 -0.037746 -0.037669   \n",
       "3 -0.006475 -0.009356 -0.009631 -0.013262 -0.022103 -0.016116 -0.013914   \n",
       "4 -0.010732 -0.017812 -0.000729 -0.015753 -0.041366 -0.004521 -0.008163   \n",
       "\n",
       "       META      NVDA     BRK-B  ...       PNC      MDLZ        MO       ADI  \\\n",
       "0  0.015158  0.091812  0.006109  ...  0.012807 -0.004082  0.004592  0.052344   \n",
       "1 -0.020181  0.000604 -0.001739  ...  0.006757 -0.002429  0.005763  0.038879   \n",
       "2 -0.040778 -0.075591 -0.006653  ... -0.034949  0.005326  0.015017 -0.046988   \n",
       "3 -0.007462 -0.035296  0.003987  ... -0.000646 -0.000908  0.007203 -0.000436   \n",
       "4 -0.019790 -0.010659 -0.002033  ...  0.009494  0.007121 -0.008891  0.003243   \n",
       "\n",
       "       GILD       LMT       SYK        GM       TFC       TJX  \n",
       "0  0.003600 -0.012275  0.033021  0.026240  0.028572  0.013237  \n",
       "1  0.009294  0.012244  0.003363  0.015301 -0.001389 -0.025984  \n",
       "2 -0.009855  0.004833 -0.030857 -0.031925 -0.033380 -0.028763  \n",
       "3 -0.003916 -0.005942 -0.013674 -0.004506 -0.003677  0.015038  \n",
       "4 -0.001147 -0.000673  0.008342 -0.037654 -0.002246 -0.013605  \n",
       "\n",
       "[5 rows x 100 columns]"
      ]
     },
     "execution_count": 6,
     "metadata": {},
     "output_type": "execute_result"
    }
   ],
   "source": [
    "# Calculate the return of each stock\n",
    "return_data = pd.DataFrame()\n",
    "for i in range(len(dailyPrice.columns)):\n",
    "    return_data[dailyPrice.columns[i]] = rml.return_calculate(dailyPrice.iloc[:,i])\n",
    "\n",
    "return_data.head()"
   ]
  },
  {
   "cell_type": "code",
   "execution_count": 65,
   "metadata": {},
   "outputs": [
    {
     "data": {
      "text/html": [
       "<div>\n",
       "<style scoped>\n",
       "    .dataframe tbody tr th:only-of-type {\n",
       "        vertical-align: middle;\n",
       "    }\n",
       "\n",
       "    .dataframe tbody tr th {\n",
       "        vertical-align: top;\n",
       "    }\n",
       "\n",
       "    .dataframe thead th {\n",
       "        text-align: right;\n",
       "    }\n",
       "</style>\n",
       "<table border=\"1\" class=\"dataframe\">\n",
       "  <thead>\n",
       "    <tr style=\"text-align: right;\">\n",
       "      <th></th>\n",
       "      <th>Portfolio</th>\n",
       "      <th>Stock</th>\n",
       "      <th>Holding</th>\n",
       "    </tr>\n",
       "  </thead>\n",
       "  <tbody>\n",
       "    <tr>\n",
       "      <th>0</th>\n",
       "      <td>A</td>\n",
       "      <td>AAPL</td>\n",
       "      <td>58</td>\n",
       "    </tr>\n",
       "    <tr>\n",
       "      <th>1</th>\n",
       "      <td>A</td>\n",
       "      <td>TSLA</td>\n",
       "      <td>10</td>\n",
       "    </tr>\n",
       "    <tr>\n",
       "      <th>2</th>\n",
       "      <td>A</td>\n",
       "      <td>JPM</td>\n",
       "      <td>64</td>\n",
       "    </tr>\n",
       "    <tr>\n",
       "      <th>3</th>\n",
       "      <td>A</td>\n",
       "      <td>HD</td>\n",
       "      <td>27</td>\n",
       "    </tr>\n",
       "    <tr>\n",
       "      <th>4</th>\n",
       "      <td>A</td>\n",
       "      <td>BAC</td>\n",
       "      <td>209</td>\n",
       "    </tr>\n",
       "  </tbody>\n",
       "</table>\n",
       "</div>"
      ],
      "text/plain": [
       "  Portfolio Stock  Holding\n",
       "0         A  AAPL       58\n",
       "1         A  TSLA       10\n",
       "2         A   JPM       64\n",
       "3         A    HD       27\n",
       "4         A   BAC      209"
      ]
     },
     "execution_count": 65,
     "metadata": {},
     "output_type": "execute_result"
    }
   ],
   "source": [
    "total_holdings = portfolio.groupby('Stock').sum('Holding')\n",
    "total_holdings['Portfolio'] = 'Total'\n",
    "total_holdings = total_holdings.reset_index()\n",
    "portfolio = portfolio.append(total_holdings)\n",
    "portfolio.head()"
   ]
  },
  {
   "cell_type": "code",
   "execution_count": 66,
   "metadata": {},
   "outputs": [
    {
     "data": {
      "text/html": [
       "<div>\n",
       "<style scoped>\n",
       "    .dataframe tbody tr th:only-of-type {\n",
       "        vertical-align: middle;\n",
       "    }\n",
       "\n",
       "    .dataframe tbody tr th {\n",
       "        vertical-align: top;\n",
       "    }\n",
       "\n",
       "    .dataframe thead th {\n",
       "        text-align: right;\n",
       "    }\n",
       "</style>\n",
       "<table border=\"1\" class=\"dataframe\">\n",
       "  <thead>\n",
       "    <tr style=\"text-align: right;\">\n",
       "      <th></th>\n",
       "      <th>Portfolio</th>\n",
       "      <th>Stock</th>\n",
       "      <th>Holding</th>\n",
       "    </tr>\n",
       "  </thead>\n",
       "  <tbody>\n",
       "    <tr>\n",
       "      <th>94</th>\n",
       "      <td>Total</td>\n",
       "      <td>VZ</td>\n",
       "      <td>188</td>\n",
       "    </tr>\n",
       "    <tr>\n",
       "      <th>95</th>\n",
       "      <td>Total</td>\n",
       "      <td>WFC</td>\n",
       "      <td>173</td>\n",
       "    </tr>\n",
       "    <tr>\n",
       "      <th>96</th>\n",
       "      <td>Total</td>\n",
       "      <td>WMT</td>\n",
       "      <td>69</td>\n",
       "    </tr>\n",
       "    <tr>\n",
       "      <th>97</th>\n",
       "      <td>Total</td>\n",
       "      <td>XOM</td>\n",
       "      <td>140</td>\n",
       "    </tr>\n",
       "    <tr>\n",
       "      <th>98</th>\n",
       "      <td>Total</td>\n",
       "      <td>ZTS</td>\n",
       "      <td>49</td>\n",
       "    </tr>\n",
       "  </tbody>\n",
       "</table>\n",
       "</div>"
      ],
      "text/plain": [
       "   Portfolio Stock  Holding\n",
       "94     Total    VZ      188\n",
       "95     Total   WFC      173\n",
       "96     Total   WMT       69\n",
       "97     Total   XOM      140\n",
       "98     Total   ZTS       49"
      ]
     },
     "execution_count": 66,
     "metadata": {},
     "output_type": "execute_result"
    }
   ],
   "source": [
    "portfolio.tail()"
   ]
  },
  {
   "cell_type": "code",
   "execution_count": 11,
   "metadata": {},
   "outputs": [],
   "source": [
    "t_param={}\n",
    "sim_data=[]\n",
    "for col in return_data:\n",
    "    stock_return = return_data[col]\n",
    "    stock_return = stock_return - np.mean(stock_return)\n",
    "    df, loc, scale = t.fit(stock_return)\n",
    "    t_param[col] = [df, loc, scale]\n",
    "    sim_data.append(t.rvs(df, loc, scale, size=10000))\n",
    "\n",
    "sim_data = np.array(sim_data)"
   ]
  },
  {
   "cell_type": "code",
   "execution_count": 51,
   "metadata": {},
   "outputs": [
    {
     "data": {
      "text/plain": [
       "(10000, 100)"
      ]
     },
     "execution_count": 51,
     "metadata": {},
     "output_type": "execute_result"
    }
   ],
   "source": [
    "sim_returns = pd.DataFrame(columns=return_data.columns, data=sim_data.T)\n",
    "sim_returns.shape"
   ]
  },
  {
   "cell_type": "code",
   "execution_count": 67,
   "metadata": {},
   "outputs": [
    {
     "name": "stdout",
     "output_type": "stream",
     "text": [
      "Portfolio A VaR: 1929.25952517092\n",
      "Portfolio A ES: 2465.613792616551\n",
      " \n",
      "Portfolio B VaR: 1850.7786582160106\n",
      "Portfolio B ES: 2329.3313903687117\n",
      " \n",
      "Portfolio C VaR: 1608.301590780635\n",
      "Portfolio C ES: 2048.854880289214\n",
      " \n",
      "Portfolio Total VaR: 3129.907980828132\n",
      "Portfolio Total ES: 3915.3366517379905\n",
      " \n"
     ]
    }
   ],
   "source": [
    "# for simulated data based on t distribution\n",
    "current_prices = pd.DataFrame({\"Price\": dailyPrice.iloc[-1]})\n",
    "\n",
    "for portfolio_index, port in portfolio.groupby('Portfolio'):\n",
    "    port = port.set_index('Stock')\n",
    "    port = port.join(current_prices.loc[port.index])\n",
    "    sim_return = sim_returns[port.index]\n",
    "    sim_prices_change = sim_return * port['Price'].T\n",
    "    sim_values_change = sim_prices_change @ port['Holding']\n",
    "\n",
    "    sim_var = rml.calculate_var(sim_values_change)\n",
    "    sim_es = rml.calculate_es(sim_values_change)\n",
    "    print(f\"Portfolio {portfolio_index} \" + \"VaR: \" + str(sim_var))\n",
    "    print(f\"Portfolio {portfolio_index} \" + \"ES: \" + str(sim_es))\n",
    "    print(\" \")\n",
    "      "
   ]
  },
  {
   "cell_type": "code",
   "execution_count": null,
   "metadata": {},
   "outputs": [],
   "source": []
  }
 ],
 "metadata": {
  "kernelspec": {
   "display_name": "base",
   "language": "python",
   "name": "python3"
  },
  "language_info": {
   "codemirror_mode": {
    "name": "ipython",
    "version": 3
   },
   "file_extension": ".py",
   "mimetype": "text/x-python",
   "name": "python",
   "nbconvert_exporter": "python",
   "pygments_lexer": "ipython3",
   "version": "3.7.2"
  },
  "orig_nbformat": 4,
  "vscode": {
   "interpreter": {
    "hash": "dc1b3402593015815fa502f600fec9937e23a463d3ef930101a05f315a838afd"
   }
  }
 },
 "nbformat": 4,
 "nbformat_minor": 2
}
