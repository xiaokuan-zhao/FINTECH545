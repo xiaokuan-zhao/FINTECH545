{
 "cells": [
  {
   "cell_type": "code",
   "execution_count": 1,
   "metadata": {},
   "outputs": [],
   "source": [
    "#import packages\n",
    "import pandas as pd\n",
    "import numpy as np\n",
    "import matplotlib.pyplot as plt\n",
    "%matplotlib inline"
   ]
  },
  {
   "cell_type": "code",
   "execution_count": 99,
   "metadata": {},
   "outputs": [],
   "source": [
    "#Problem1\n",
    "#generating initial conditions\n",
    "price = 1\n",
    "sigma = 0.5\n",
    "mean = 0\n",
    "#generating random r following normal distribution\n",
    "r = np.random.normal(mean, sigma, 1000)"
   ]
  },
  {
   "cell_type": "code",
   "execution_count": 100,
   "metadata": {},
   "outputs": [
    {
     "name": "stdout",
     "output_type": "stream",
     "text": [
      "0.9827998270749101\n",
      "0.5080949550473078\n"
     ]
    }
   ],
   "source": [
    "# Classical Brownian Motion\n",
    "price_brownian = price + r\n",
    "print(np.mean(price_brownian))\n",
    "print(np.std(price_brownian))"
   ]
  },
  {
   "cell_type": "code",
   "execution_count": 101,
   "metadata": {},
   "outputs": [
    {
     "name": "stdout",
     "output_type": "stream",
     "text": [
      "0.9827998270749101\n",
      "0.5080949550473078\n"
     ]
    }
   ],
   "source": [
    "# Arithmetic Return System\n",
    "price_arithmetic = price * (1 + r)\n",
    "print(np.mean(price_arithmetic))\n",
    "print(np.std(price_arithmetic))"
   ]
  },
  {
   "cell_type": "code",
   "execution_count": 102,
   "metadata": {},
   "outputs": [
    {
     "name": "stdout",
     "output_type": "stream",
     "text": [
      "1.1161216498626223\n",
      "0.594507200252909\n"
     ]
    }
   ],
   "source": [
    "# Log Return or Geometric Brownian Motion\n",
    "price_log = price * np.exp(r)\n",
    "print(np.mean(price_log))\n",
    "print(np.std(price_log))"
   ]
  },
  {
   "cell_type": "code",
   "execution_count": 103,
   "metadata": {},
   "outputs": [
    {
     "data": {
      "image/png": "[encoded data removed]",
      "text/plain": [
       "<Figure size 432x288 with 1 Axes>"
      ]
     },
     "metadata": {
      "needs_background": "light"
     },
     "output_type": "display_data"
    },
    {
     "data": {
      "image/png": "[encoded data removed]",
      "text/plain": [
       "<Figure size 432x288 with 1 Axes>"
      ]
     },
     "metadata": {
      "needs_background": "light"
     },
     "output_type": "display_data"
    },
    {
     "data": {
      "image/png": "[encoded data removed]",
      "text/plain": [
       "<Figure size 432x288 with 1 Axes>"
      ]
     },
     "metadata": {
      "needs_background": "light"
     },
     "output_type": "display_data"
    }
   ],
   "source": [
    "data = [price_brownian, price_arithmetic, price_log]\n",
    "for data in data:\n",
    "    plt.hist(data, bins=np.arange(min(data), max(data), 0.08), density = True)\n",
    "    plt.xlabel('price')\n",
    "    plt.ylabel('Frequency')\n",
    "    plt.title('Distribution of Price')\n",
    "    plt.show()"
   ]
  },
  {
   "cell_type": "code",
   "execution_count": 105,
   "metadata": {},
   "outputs": [
    {
     "data": {
      "text/html": [
       "<div>\n",
       "<style scoped>\n",
       "    .dataframe tbody tr th:only-of-type {\n",
       "        vertical-align: middle;\n",
       "    }\n",
       "\n",
       "    .dataframe tbody tr th {\n",
       "        vertical-align: top;\n",
       "    }\n",
       "\n",
       "    .dataframe thead th {\n",
       "        text-align: right;\n",
       "    }\n",
       "</style>\n",
       "<table border=\"1\" class=\"dataframe\">\n",
       "  <thead>\n",
       "    <tr style=\"text-align: right;\">\n",
       "      <th></th>\n",
       "      <th>Date</th>\n",
       "      <th>SPY</th>\n",
       "      <th>AAPL</th>\n",
       "      <th>MSFT</th>\n",
       "      <th>AMZN</th>\n",
       "      <th>TSLA</th>\n",
       "      <th>GOOGL</th>\n",
       "      <th>GOOG</th>\n",
       "      <th>META</th>\n",
       "      <th>NVDA</th>\n",
       "      <th>...</th>\n",
       "      <th>PNC</th>\n",
       "      <th>MDLZ</th>\n",
       "      <th>MO</th>\n",
       "      <th>ADI</th>\n",
       "      <th>GILD</th>\n",
       "      <th>LMT</th>\n",
       "      <th>SYK</th>\n",
       "      <th>GM</th>\n",
       "      <th>TFC</th>\n",
       "      <th>TJX</th>\n",
       "    </tr>\n",
       "  </thead>\n",
       "  <tbody>\n",
       "    <tr>\n",
       "      <th>0</th>\n",
       "      <td>2/14/2022 0:00</td>\n",
       "      <td>432.011322</td>\n",
       "      <td>167.863144</td>\n",
       "      <td>292.261475</td>\n",
       "      <td>155.167007</td>\n",
       "      <td>291.920013</td>\n",
       "      <td>135.526001</td>\n",
       "      <td>135.300003</td>\n",
       "      <td>217.699997</td>\n",
       "      <td>242.443298</td>\n",
       "      <td>...</td>\n",
       "      <td>197.263107</td>\n",
       "      <td>64.592575</td>\n",
       "      <td>46.290192</td>\n",
       "      <td>151.118790</td>\n",
       "      <td>58.443172</td>\n",
       "      <td>377.068665</td>\n",
       "      <td>247.324020</td>\n",
       "      <td>48.182598</td>\n",
       "      <td>60.352272</td>\n",
       "      <td>66.789505</td>\n",
       "    </tr>\n",
       "    <tr>\n",
       "      <th>1</th>\n",
       "      <td>2/15/2022 0:00</td>\n",
       "      <td>438.978333</td>\n",
       "      <td>171.749573</td>\n",
       "      <td>297.680664</td>\n",
       "      <td>156.510498</td>\n",
       "      <td>307.476654</td>\n",
       "      <td>136.608505</td>\n",
       "      <td>136.425507</td>\n",
       "      <td>221.000000</td>\n",
       "      <td>264.702484</td>\n",
       "      <td>...</td>\n",
       "      <td>199.789520</td>\n",
       "      <td>64.328896</td>\n",
       "      <td>46.502743</td>\n",
       "      <td>159.029022</td>\n",
       "      <td>58.653572</td>\n",
       "      <td>372.440185</td>\n",
       "      <td>255.490829</td>\n",
       "      <td>49.446892</td>\n",
       "      <td>62.076630</td>\n",
       "      <td>67.673614</td>\n",
       "    </tr>\n",
       "    <tr>\n",
       "      <th>2</th>\n",
       "      <td>2/16/2022 0:00</td>\n",
       "      <td>439.470337</td>\n",
       "      <td>171.511032</td>\n",
       "      <td>297.333191</td>\n",
       "      <td>158.100494</td>\n",
       "      <td>307.796661</td>\n",
       "      <td>137.738007</td>\n",
       "      <td>137.487503</td>\n",
       "      <td>216.539993</td>\n",
       "      <td>264.862305</td>\n",
       "      <td>...</td>\n",
       "      <td>201.139511</td>\n",
       "      <td>64.172638</td>\n",
       "      <td>46.770744</td>\n",
       "      <td>165.211960</td>\n",
       "      <td>59.198696</td>\n",
       "      <td>377.000458</td>\n",
       "      <td>256.349976</td>\n",
       "      <td>50.203476</td>\n",
       "      <td>61.990410</td>\n",
       "      <td>65.915215</td>\n",
       "    </tr>\n",
       "    <tr>\n",
       "      <th>3</th>\n",
       "      <td>2/17/2022 0:00</td>\n",
       "      <td>430.082642</td>\n",
       "      <td>167.863144</td>\n",
       "      <td>288.626679</td>\n",
       "      <td>154.652496</td>\n",
       "      <td>292.116669</td>\n",
       "      <td>132.539002</td>\n",
       "      <td>132.308502</td>\n",
       "      <td>207.710007</td>\n",
       "      <td>244.841064</td>\n",
       "      <td>...</td>\n",
       "      <td>194.109894</td>\n",
       "      <td>64.514450</td>\n",
       "      <td>47.473091</td>\n",
       "      <td>157.448944</td>\n",
       "      <td>58.615318</td>\n",
       "      <td>378.822571</td>\n",
       "      <td>248.439911</td>\n",
       "      <td>48.600708</td>\n",
       "      <td>59.921181</td>\n",
       "      <td>64.019295</td>\n",
       "    </tr>\n",
       "    <tr>\n",
       "      <th>4</th>\n",
       "      <td>2/18/2022 0:00</td>\n",
       "      <td>427.297852</td>\n",
       "      <td>166.292648</td>\n",
       "      <td>285.846893</td>\n",
       "      <td>152.601502</td>\n",
       "      <td>285.660004</td>\n",
       "      <td>130.403000</td>\n",
       "      <td>130.467499</td>\n",
       "      <td>206.160004</td>\n",
       "      <td>236.199127</td>\n",
       "      <td>...</td>\n",
       "      <td>193.984528</td>\n",
       "      <td>64.455841</td>\n",
       "      <td>47.815025</td>\n",
       "      <td>157.380234</td>\n",
       "      <td>58.385788</td>\n",
       "      <td>376.571686</td>\n",
       "      <td>245.042847</td>\n",
       "      <td>48.381695</td>\n",
       "      <td>59.700851</td>\n",
       "      <td>64.981995</td>\n",
       "    </tr>\n",
       "  </tbody>\n",
       "</table>\n",
       "<p>5 rows × 101 columns</p>\n",
       "</div>"
      ],
      "text/plain": [
       "             Date         SPY        AAPL        MSFT        AMZN        TSLA  \\\n",
       "0  2/14/2022 0:00  432.011322  167.863144  292.261475  155.167007  291.920013   \n",
       "1  2/15/2022 0:00  438.978333  171.749573  297.680664  156.510498  307.476654   \n",
       "2  2/16/2022 0:00  439.470337  171.511032  297.333191  158.100494  307.796661   \n",
       "3  2/17/2022 0:00  430.082642  167.863144  288.626679  154.652496  292.116669   \n",
       "4  2/18/2022 0:00  427.297852  166.292648  285.846893  152.601502  285.660004   \n",
       "\n",
       "        GOOGL        GOOG        META        NVDA  ...         PNC       MDLZ  \\\n",
       "0  135.526001  135.300003  217.699997  242.443298  ...  197.263107  64.592575   \n",
       "1  136.608505  136.425507  221.000000  264.702484  ...  199.789520  64.328896   \n",
       "2  137.738007  137.487503  216.539993  264.862305  ...  201.139511  64.172638   \n",
       "3  132.539002  132.308502  207.710007  244.841064  ...  194.109894  64.514450   \n",
       "4  130.403000  130.467499  206.160004  236.199127  ...  193.984528  64.455841   \n",
       "\n",
       "          MO         ADI       GILD         LMT         SYK         GM  \\\n",
       "0  46.290192  151.118790  58.443172  377.068665  247.324020  48.182598   \n",
       "1  46.502743  159.029022  58.653572  372.440185  255.490829  49.446892   \n",
       "2  46.770744  165.211960  59.198696  377.000458  256.349976  50.203476   \n",
       "3  47.473091  157.448944  58.615318  378.822571  248.439911  48.600708   \n",
       "4  47.815025  157.380234  58.385788  376.571686  245.042847  48.381695   \n",
       "\n",
       "         TFC        TJX  \n",
       "0  60.352272  66.789505  \n",
       "1  62.076630  67.673614  \n",
       "2  61.990410  65.915215  \n",
       "3  59.921181  64.019295  \n",
       "4  59.700851  64.981995  \n",
       "\n",
       "[5 rows x 101 columns]"
      ]
     },
     "execution_count": 105,
     "metadata": {},
     "output_type": "execute_result"
    }
   ],
   "source": [
    "#Problem 2\n",
    "\n",
    "data = pd.read_csv('DailyPrices.csv')\n",
    "data.head()"
   ]
  },
  {
   "cell_type": "code",
   "execution_count": 126,
   "metadata": {},
   "outputs": [],
   "source": [
    "def return_calculate(price, method = 'discrete'):\n",
    "    returns = []\n",
    "    for i in range(len(price)-1):\n",
    "        returns.append(price[i+1]/price[i])\n",
    "    returns = np.array(returns)\n",
    "    if method == 'discrete':\n",
    "        return returns - 1\n",
    "    if method == 'log':\n",
    "        return np.log(returns)"
   ]
  },
  {
   "cell_type": "code",
   "execution_count": 132,
   "metadata": {},
   "outputs": [
    {
     "data": {
      "text/html": [
       "<div>\n",
       "<style scoped>\n",
       "    .dataframe tbody tr th:only-of-type {\n",
       "        vertical-align: middle;\n",
       "    }\n",
       "\n",
       "    .dataframe tbody tr th {\n",
       "        vertical-align: top;\n",
       "    }\n",
       "\n",
       "    .dataframe thead th {\n",
       "        text-align: right;\n",
       "    }\n",
       "</style>\n",
       "<table border=\"1\" class=\"dataframe\">\n",
       "  <thead>\n",
       "    <tr style=\"text-align: right;\">\n",
       "      <th></th>\n",
       "      <th>SPY</th>\n",
       "      <th>AAPL</th>\n",
       "      <th>MSFT</th>\n",
       "      <th>AMZN</th>\n",
       "      <th>TSLA</th>\n",
       "      <th>GOOGL</th>\n",
       "      <th>GOOG</th>\n",
       "      <th>META</th>\n",
       "      <th>NVDA</th>\n",
       "      <th>BRK-B</th>\n",
       "      <th>...</th>\n",
       "      <th>PNC</th>\n",
       "      <th>MDLZ</th>\n",
       "      <th>MO</th>\n",
       "      <th>ADI</th>\n",
       "      <th>GILD</th>\n",
       "      <th>LMT</th>\n",
       "      <th>SYK</th>\n",
       "      <th>GM</th>\n",
       "      <th>TFC</th>\n",
       "      <th>TJX</th>\n",
       "    </tr>\n",
       "  </thead>\n",
       "  <tbody>\n",
       "    <tr>\n",
       "      <th>0</th>\n",
       "      <td>0.016127</td>\n",
       "      <td>0.023152</td>\n",
       "      <td>0.018542</td>\n",
       "      <td>0.008658</td>\n",
       "      <td>0.053291</td>\n",
       "      <td>0.007987</td>\n",
       "      <td>0.008319</td>\n",
       "      <td>0.015158</td>\n",
       "      <td>0.091812</td>\n",
       "      <td>0.006109</td>\n",
       "      <td>...</td>\n",
       "      <td>0.012807</td>\n",
       "      <td>-0.004082</td>\n",
       "      <td>0.004592</td>\n",
       "      <td>0.052344</td>\n",
       "      <td>0.003600</td>\n",
       "      <td>-0.012275</td>\n",
       "      <td>0.033021</td>\n",
       "      <td>0.026240</td>\n",
       "      <td>0.028572</td>\n",
       "      <td>0.013237</td>\n",
       "    </tr>\n",
       "    <tr>\n",
       "      <th>1</th>\n",
       "      <td>0.001121</td>\n",
       "      <td>-0.001389</td>\n",
       "      <td>-0.001167</td>\n",
       "      <td>0.010159</td>\n",
       "      <td>0.001041</td>\n",
       "      <td>0.008268</td>\n",
       "      <td>0.007784</td>\n",
       "      <td>-0.020181</td>\n",
       "      <td>0.000604</td>\n",
       "      <td>-0.001739</td>\n",
       "      <td>...</td>\n",
       "      <td>0.006757</td>\n",
       "      <td>-0.002429</td>\n",
       "      <td>0.005763</td>\n",
       "      <td>0.038879</td>\n",
       "      <td>0.009294</td>\n",
       "      <td>0.012244</td>\n",
       "      <td>0.003363</td>\n",
       "      <td>0.015301</td>\n",
       "      <td>-0.001389</td>\n",
       "      <td>-0.025984</td>\n",
       "    </tr>\n",
       "    <tr>\n",
       "      <th>2</th>\n",
       "      <td>-0.021361</td>\n",
       "      <td>-0.021269</td>\n",
       "      <td>-0.029282</td>\n",
       "      <td>-0.021809</td>\n",
       "      <td>-0.050943</td>\n",
       "      <td>-0.037746</td>\n",
       "      <td>-0.037669</td>\n",
       "      <td>-0.040778</td>\n",
       "      <td>-0.075591</td>\n",
       "      <td>-0.006653</td>\n",
       "      <td>...</td>\n",
       "      <td>-0.034949</td>\n",
       "      <td>0.005326</td>\n",
       "      <td>0.015017</td>\n",
       "      <td>-0.046988</td>\n",
       "      <td>-0.009855</td>\n",
       "      <td>0.004833</td>\n",
       "      <td>-0.030857</td>\n",
       "      <td>-0.031925</td>\n",
       "      <td>-0.033380</td>\n",
       "      <td>-0.028763</td>\n",
       "    </tr>\n",
       "    <tr>\n",
       "      <th>3</th>\n",
       "      <td>-0.006475</td>\n",
       "      <td>-0.009356</td>\n",
       "      <td>-0.009631</td>\n",
       "      <td>-0.013262</td>\n",
       "      <td>-0.022103</td>\n",
       "      <td>-0.016116</td>\n",
       "      <td>-0.013914</td>\n",
       "      <td>-0.007462</td>\n",
       "      <td>-0.035296</td>\n",
       "      <td>0.003987</td>\n",
       "      <td>...</td>\n",
       "      <td>-0.000646</td>\n",
       "      <td>-0.000908</td>\n",
       "      <td>0.007203</td>\n",
       "      <td>-0.000436</td>\n",
       "      <td>-0.003916</td>\n",
       "      <td>-0.005942</td>\n",
       "      <td>-0.013674</td>\n",
       "      <td>-0.004506</td>\n",
       "      <td>-0.003677</td>\n",
       "      <td>0.015038</td>\n",
       "    </tr>\n",
       "    <tr>\n",
       "      <th>4</th>\n",
       "      <td>-0.010732</td>\n",
       "      <td>-0.017812</td>\n",
       "      <td>-0.000729</td>\n",
       "      <td>-0.015753</td>\n",
       "      <td>-0.041366</td>\n",
       "      <td>-0.004521</td>\n",
       "      <td>-0.008163</td>\n",
       "      <td>-0.019790</td>\n",
       "      <td>-0.010659</td>\n",
       "      <td>-0.002033</td>\n",
       "      <td>...</td>\n",
       "      <td>0.009494</td>\n",
       "      <td>0.007121</td>\n",
       "      <td>-0.008891</td>\n",
       "      <td>0.003243</td>\n",
       "      <td>-0.001147</td>\n",
       "      <td>-0.000673</td>\n",
       "      <td>0.008342</td>\n",
       "      <td>-0.037654</td>\n",
       "      <td>-0.002246</td>\n",
       "      <td>-0.013605</td>\n",
       "    </tr>\n",
       "  </tbody>\n",
       "</table>\n",
       "<p>5 rows × 100 columns</p>\n",
       "</div>"
      ],
      "text/plain": [
       "        SPY      AAPL      MSFT      AMZN      TSLA     GOOGL      GOOG  \\\n",
       "0  0.016127  0.023152  0.018542  0.008658  0.053291  0.007987  0.008319   \n",
       "1  0.001121 -0.001389 -0.001167  0.010159  0.001041  0.008268  0.007784   \n",
       "2 -0.021361 -0.021269 -0.029282 -0.021809 -0.050943 -0.037746 -0.037669   \n",
       "3 -0.006475 -0.009356 -0.009631 -0.013262 -0.022103 -0.016116 -0.013914   \n",
       "4 -0.010732 -0.017812 -0.000729 -0.015753 -0.041366 -0.004521 -0.008163   \n",
       "\n",
       "       META      NVDA     BRK-B  ...       PNC      MDLZ        MO       ADI  \\\n",
       "0  0.015158  0.091812  0.006109  ...  0.012807 -0.004082  0.004592  0.052344   \n",
       "1 -0.020181  0.000604 -0.001739  ...  0.006757 -0.002429  0.005763  0.038879   \n",
       "2 -0.040778 -0.075591 -0.006653  ... -0.034949  0.005326  0.015017 -0.046988   \n",
       "3 -0.007462 -0.035296  0.003987  ... -0.000646 -0.000908  0.007203 -0.000436   \n",
       "4 -0.019790 -0.010659 -0.002033  ...  0.009494  0.007121 -0.008891  0.003243   \n",
       "\n",
       "       GILD       LMT       SYK        GM       TFC       TJX  \n",
       "0  0.003600 -0.012275  0.033021  0.026240  0.028572  0.013237  \n",
       "1  0.009294  0.012244  0.003363  0.015301 -0.001389 -0.025984  \n",
       "2 -0.009855  0.004833 -0.030857 -0.031925 -0.033380 -0.028763  \n",
       "3 -0.003916 -0.005942 -0.013674 -0.004506 -0.003677  0.015038  \n",
       "4 -0.001147 -0.000673  0.008342 -0.037654 -0.002246 -0.013605  \n",
       "\n",
       "[5 rows x 100 columns]"
      ]
     },
     "execution_count": 132,
     "metadata": {},
     "output_type": "execute_result"
    }
   ],
   "source": [
    "data = data.drop(['Date'], axis = 1)\n",
    "return1 = pd.DataFrame()\n",
    "for column in data.columns:\n",
    "    returns = return_calculate(data[column], method = 'discrete')\n",
    "    return1[column] = returns\n",
    "    \n",
    "\n",
    "return1.head()"
   ]
  },
  {
   "cell_type": "code",
   "execution_count": 136,
   "metadata": {},
   "outputs": [],
   "source": [
    "#Removing mean from META\n",
    "meta = return1[\"META\"]\n",
    "meta = meta-np.mean(meta)"
   ]
  },
  {
   "cell_type": "code",
   "execution_count": 137,
   "metadata": {},
   "outputs": [],
   "source": [
    "def calculate_var(data, alpha=0.05):\n",
    "  return -np.quantile(data, alpha)"
   ]
  },
  {
   "cell_type": "code",
   "execution_count": 166,
   "metadata": {},
   "outputs": [
    {
     "name": "stdout",
     "output_type": "stream",
     "text": [
      "6.41 %\n"
     ]
    }
   ],
   "source": [
    "# Calculate VAR using a normal distribution\n",
    "sigma = np.sqrt(np.var(meta))\n",
    "norm = np.random.normal(0, sigma, 1000)\n",
    "var_norm = calculate_var(norm, alpha=0.05)\n",
    "print(round(var_norm*100,2), '%')"
   ]
  },
  {
   "cell_type": "code",
   "execution_count": 145,
   "metadata": {},
   "outputs": [],
   "source": [
    "# from week 03\n",
    "def weight_gen(n, lambd):\n",
    "    weight = np.zeros(n)\n",
    "    for i in range(n):\n",
    "        weight[i] = (1-lambd) * (lambd) ** i\n",
    "    normalized_weight = weight / np.sum(weight)\n",
    "    return normalized_weight[::-1]\n",
    "\n",
    "def cov_gen(data, weight):\n",
    "    data = data - data.mean()\n",
    "    weight = np.diag(weight)\n",
    "    data_left = weight@data\n",
    "    data_right = np.dot(data.T,data_left)\n",
    "    return data_right"
   ]
  },
  {
   "cell_type": "code",
   "execution_count": 172,
   "metadata": {},
   "outputs": [
    {
     "name": "stdout",
     "output_type": "stream",
     "text": [
      "9.3 %\n"
     ]
    }
   ],
   "source": [
    "# Calculate VAR using a normal distribution with an Exponentially Weighted variance lambda = 0.94\n",
    "weight = weight_gen(len(meta), 0.94)\n",
    "cov = cov_gen(np.matrix(meta).T, weight)\n",
    "sigma = np.sqrt(cov[0,0])\n",
    "norm = np.random.normal(0, sigma, 1000)\n",
    "var_ew_norm = calculate_var(norm, alpha=0.05)\n",
    "print(round(var_ew_norm*100,2), '%')"
   ]
  },
  {
   "cell_type": "code",
   "execution_count": 163,
   "metadata": {},
   "outputs": [
    {
     "name": "stdout",
     "output_type": "stream",
     "text": [
      "5.69 %\n"
     ]
    }
   ],
   "source": [
    "# Calculate VAR using an MLE fitted T distribution\n",
    "from scipy.stats import t\n",
    "result = t.fit(meta, method=\"MLE\")\n",
    "df = result[0]\n",
    "loc = result[1]\n",
    "scale = result[2]\n",
    "simulation_t = t(df, loc, scale).rvs(1000)\n",
    "var_t = calculate_var(simulation_t)\n",
    "print(round(var_t*100,2), '%') "
   ]
  },
  {
   "cell_type": "code",
   "execution_count": 174,
   "metadata": {},
   "outputs": [
    {
     "name": "stdout",
     "output_type": "stream",
     "text": [
      "                               SARIMAX Results                                \n",
      "==============================================================================\n",
      "Dep. Variable:                   META   No. Observations:                  248\n",
      "Model:                 ARIMA(1, 0, 0)   Log Likelihood                 447.619\n",
      "Date:                Fri, 17 Feb 2023   AIC                           -889.238\n",
      "Time:                        17:59:57   BIC                           -878.697\n",
      "Sample:                             0   HQIC                          -884.995\n",
      "                                - 248                                         \n",
      "Covariance Type:                  opg                                         \n",
      "==============================================================================\n",
      "                 coef    std err          z      P>|z|      [0.025      0.975]\n",
      "------------------------------------------------------------------------------\n",
      "const      -2.766e-06      0.003     -0.001      0.999      -0.005       0.005\n",
      "ar.L1          0.0072      0.081      0.089      0.929      -0.152       0.167\n",
      "sigma2         0.0016   6.67e-05     23.739      0.000       0.001       0.002\n",
      "===================================================================================\n",
      "Ljung-Box (L1) (Q):                   0.00   Jarque-Bera (JB):              1106.14\n",
      "Prob(Q):                              1.00   Prob(JB):                         0.00\n",
      "Heteroskedasticity (H):               1.61   Skew:                             0.17\n",
      "Prob(H) (two-sided):                  0.03   Kurtosis:                        13.34\n",
      "===================================================================================\n",
      "\n",
      "Warnings:\n",
      "[1] Covariance matrix calculated using the outer product of gradients (complex-step).\n"
     ]
    }
   ],
   "source": [
    "# Calculate VAR using a fitted AR(1) model\n",
    "from statsmodels.tsa.arima.model import ARIMA\n",
    "#fitting AR(1) model\n",
    "model = ARIMA(meta, order=(1,0,0))\n",
    "res = model.fit()\n",
    "print(res.summary())"
   ]
  },
  {
   "cell_type": "code",
   "execution_count": 182,
   "metadata": {},
   "outputs": [
    {
     "name": "stdout",
     "output_type": "stream",
     "text": [
      "6.26 %\n"
     ]
    }
   ],
   "source": [
    "sigma = np.sqrt(res.params['sigma2'])\n",
    "norm = np.random.normal(0, sigma, 1000)\n",
    "ar1_norm = calculate_var(norm, alpha=0.05)\n",
    "print(round(ar1_norm*100,2), '%')"
   ]
  },
  {
   "cell_type": "code",
   "execution_count": 164,
   "metadata": {},
   "outputs": [
    {
     "name": "stdout",
     "output_type": "stream",
     "text": [
      "5.46 %\n"
     ]
    }
   ],
   "source": [
    "# Calculate VAR using a Historic Simulation\n",
    "var_historic = calculate_var(meta)\n",
    "print(round(var_historic*100,2), '%')"
   ]
  },
  {
   "cell_type": "code",
   "execution_count": 184,
   "metadata": {},
   "outputs": [
    {
     "name": "stdout",
     "output_type": "stream",
     "text": [
      "(99, 3)\n"
     ]
    },
    {
     "data": {
      "text/html": [
       "<div>\n",
       "<style scoped>\n",
       "    .dataframe tbody tr th:only-of-type {\n",
       "        vertical-align: middle;\n",
       "    }\n",
       "\n",
       "    .dataframe tbody tr th {\n",
       "        vertical-align: top;\n",
       "    }\n",
       "\n",
       "    .dataframe thead th {\n",
       "        text-align: right;\n",
       "    }\n",
       "</style>\n",
       "<table border=\"1\" class=\"dataframe\">\n",
       "  <thead>\n",
       "    <tr style=\"text-align: right;\">\n",
       "      <th></th>\n",
       "      <th>Portfolio</th>\n",
       "      <th>Stock</th>\n",
       "      <th>Holding</th>\n",
       "    </tr>\n",
       "  </thead>\n",
       "  <tbody>\n",
       "    <tr>\n",
       "      <th>0</th>\n",
       "      <td>A</td>\n",
       "      <td>AAPL</td>\n",
       "      <td>58</td>\n",
       "    </tr>\n",
       "    <tr>\n",
       "      <th>1</th>\n",
       "      <td>A</td>\n",
       "      <td>TSLA</td>\n",
       "      <td>10</td>\n",
       "    </tr>\n",
       "    <tr>\n",
       "      <th>2</th>\n",
       "      <td>A</td>\n",
       "      <td>JPM</td>\n",
       "      <td>64</td>\n",
       "    </tr>\n",
       "    <tr>\n",
       "      <th>3</th>\n",
       "      <td>A</td>\n",
       "      <td>HD</td>\n",
       "      <td>27</td>\n",
       "    </tr>\n",
       "    <tr>\n",
       "      <th>4</th>\n",
       "      <td>A</td>\n",
       "      <td>BAC</td>\n",
       "      <td>209</td>\n",
       "    </tr>\n",
       "  </tbody>\n",
       "</table>\n",
       "</div>"
      ],
      "text/plain": [
       "  Portfolio Stock  Holding\n",
       "0         A  AAPL       58\n",
       "1         A  TSLA       10\n",
       "2         A   JPM       64\n",
       "3         A    HD       27\n",
       "4         A   BAC      209"
      ]
     },
     "execution_count": 184,
     "metadata": {},
     "output_type": "execute_result"
    }
   ],
   "source": [
    "#Problem 3\n",
    "portfolio = pd.read_csv('portfolio.csv')\n",
    "print(portfolio.shape)\n",
    "portfolio.head()"
   ]
  },
  {
   "cell_type": "code",
   "execution_count": 189,
   "metadata": {},
   "outputs": [
    {
     "data": {
      "text/html": [
       "<div>\n",
       "<style scoped>\n",
       "    .dataframe tbody tr th:only-of-type {\n",
       "        vertical-align: middle;\n",
       "    }\n",
       "\n",
       "    .dataframe tbody tr th {\n",
       "        vertical-align: top;\n",
       "    }\n",
       "\n",
       "    .dataframe thead th {\n",
       "        text-align: right;\n",
       "    }\n",
       "</style>\n",
       "<table border=\"1\" class=\"dataframe\">\n",
       "  <thead>\n",
       "    <tr style=\"text-align: right;\">\n",
       "      <th></th>\n",
       "      <th>Date</th>\n",
       "      <th>SPY</th>\n",
       "      <th>AAPL</th>\n",
       "      <th>MSFT</th>\n",
       "      <th>AMZN</th>\n",
       "      <th>TSLA</th>\n",
       "      <th>GOOGL</th>\n",
       "      <th>GOOG</th>\n",
       "      <th>META</th>\n",
       "      <th>NVDA</th>\n",
       "      <th>...</th>\n",
       "      <th>PNC</th>\n",
       "      <th>MDLZ</th>\n",
       "      <th>MO</th>\n",
       "      <th>ADI</th>\n",
       "      <th>GILD</th>\n",
       "      <th>LMT</th>\n",
       "      <th>SYK</th>\n",
       "      <th>GM</th>\n",
       "      <th>TFC</th>\n",
       "      <th>TJX</th>\n",
       "    </tr>\n",
       "  </thead>\n",
       "  <tbody>\n",
       "    <tr>\n",
       "      <th>0</th>\n",
       "      <td>2/14/2022 0:00</td>\n",
       "      <td>432.011322</td>\n",
       "      <td>167.863144</td>\n",
       "      <td>292.261475</td>\n",
       "      <td>155.167007</td>\n",
       "      <td>291.920013</td>\n",
       "      <td>135.526001</td>\n",
       "      <td>135.300003</td>\n",
       "      <td>217.699997</td>\n",
       "      <td>242.443298</td>\n",
       "      <td>...</td>\n",
       "      <td>197.263107</td>\n",
       "      <td>64.592575</td>\n",
       "      <td>46.290192</td>\n",
       "      <td>151.118790</td>\n",
       "      <td>58.443172</td>\n",
       "      <td>377.068665</td>\n",
       "      <td>247.324020</td>\n",
       "      <td>48.182598</td>\n",
       "      <td>60.352272</td>\n",
       "      <td>66.789505</td>\n",
       "    </tr>\n",
       "    <tr>\n",
       "      <th>1</th>\n",
       "      <td>2/15/2022 0:00</td>\n",
       "      <td>438.978333</td>\n",
       "      <td>171.749573</td>\n",
       "      <td>297.680664</td>\n",
       "      <td>156.510498</td>\n",
       "      <td>307.476654</td>\n",
       "      <td>136.608505</td>\n",
       "      <td>136.425507</td>\n",
       "      <td>221.000000</td>\n",
       "      <td>264.702484</td>\n",
       "      <td>...</td>\n",
       "      <td>199.789520</td>\n",
       "      <td>64.328896</td>\n",
       "      <td>46.502743</td>\n",
       "      <td>159.029022</td>\n",
       "      <td>58.653572</td>\n",
       "      <td>372.440185</td>\n",
       "      <td>255.490829</td>\n",
       "      <td>49.446892</td>\n",
       "      <td>62.076630</td>\n",
       "      <td>67.673614</td>\n",
       "    </tr>\n",
       "    <tr>\n",
       "      <th>2</th>\n",
       "      <td>2/16/2022 0:00</td>\n",
       "      <td>439.470337</td>\n",
       "      <td>171.511032</td>\n",
       "      <td>297.333191</td>\n",
       "      <td>158.100494</td>\n",
       "      <td>307.796661</td>\n",
       "      <td>137.738007</td>\n",
       "      <td>137.487503</td>\n",
       "      <td>216.539993</td>\n",
       "      <td>264.862305</td>\n",
       "      <td>...</td>\n",
       "      <td>201.139511</td>\n",
       "      <td>64.172638</td>\n",
       "      <td>46.770744</td>\n",
       "      <td>165.211960</td>\n",
       "      <td>59.198696</td>\n",
       "      <td>377.000458</td>\n",
       "      <td>256.349976</td>\n",
       "      <td>50.203476</td>\n",
       "      <td>61.990410</td>\n",
       "      <td>65.915215</td>\n",
       "    </tr>\n",
       "    <tr>\n",
       "      <th>3</th>\n",
       "      <td>2/17/2022 0:00</td>\n",
       "      <td>430.082642</td>\n",
       "      <td>167.863144</td>\n",
       "      <td>288.626679</td>\n",
       "      <td>154.652496</td>\n",
       "      <td>292.116669</td>\n",
       "      <td>132.539002</td>\n",
       "      <td>132.308502</td>\n",
       "      <td>207.710007</td>\n",
       "      <td>244.841064</td>\n",
       "      <td>...</td>\n",
       "      <td>194.109894</td>\n",
       "      <td>64.514450</td>\n",
       "      <td>47.473091</td>\n",
       "      <td>157.448944</td>\n",
       "      <td>58.615318</td>\n",
       "      <td>378.822571</td>\n",
       "      <td>248.439911</td>\n",
       "      <td>48.600708</td>\n",
       "      <td>59.921181</td>\n",
       "      <td>64.019295</td>\n",
       "    </tr>\n",
       "    <tr>\n",
       "      <th>4</th>\n",
       "      <td>2/18/2022 0:00</td>\n",
       "      <td>427.297852</td>\n",
       "      <td>166.292648</td>\n",
       "      <td>285.846893</td>\n",
       "      <td>152.601502</td>\n",
       "      <td>285.660004</td>\n",
       "      <td>130.403000</td>\n",
       "      <td>130.467499</td>\n",
       "      <td>206.160004</td>\n",
       "      <td>236.199127</td>\n",
       "      <td>...</td>\n",
       "      <td>193.984528</td>\n",
       "      <td>64.455841</td>\n",
       "      <td>47.815025</td>\n",
       "      <td>157.380234</td>\n",
       "      <td>58.385788</td>\n",
       "      <td>376.571686</td>\n",
       "      <td>245.042847</td>\n",
       "      <td>48.381695</td>\n",
       "      <td>59.700851</td>\n",
       "      <td>64.981995</td>\n",
       "    </tr>\n",
       "  </tbody>\n",
       "</table>\n",
       "<p>5 rows × 101 columns</p>\n",
       "</div>"
      ],
      "text/plain": [
       "             Date         SPY        AAPL        MSFT        AMZN        TSLA  \\\n",
       "0  2/14/2022 0:00  432.011322  167.863144  292.261475  155.167007  291.920013   \n",
       "1  2/15/2022 0:00  438.978333  171.749573  297.680664  156.510498  307.476654   \n",
       "2  2/16/2022 0:00  439.470337  171.511032  297.333191  158.100494  307.796661   \n",
       "3  2/17/2022 0:00  430.082642  167.863144  288.626679  154.652496  292.116669   \n",
       "4  2/18/2022 0:00  427.297852  166.292648  285.846893  152.601502  285.660004   \n",
       "\n",
       "        GOOGL        GOOG        META        NVDA  ...         PNC       MDLZ  \\\n",
       "0  135.526001  135.300003  217.699997  242.443298  ...  197.263107  64.592575   \n",
       "1  136.608505  136.425507  221.000000  264.702484  ...  199.789520  64.328896   \n",
       "2  137.738007  137.487503  216.539993  264.862305  ...  201.139511  64.172638   \n",
       "3  132.539002  132.308502  207.710007  244.841064  ...  194.109894  64.514450   \n",
       "4  130.403000  130.467499  206.160004  236.199127  ...  193.984528  64.455841   \n",
       "\n",
       "          MO         ADI       GILD         LMT         SYK         GM  \\\n",
       "0  46.290192  151.118790  58.443172  377.068665  247.324020  48.182598   \n",
       "1  46.502743  159.029022  58.653572  372.440185  255.490829  49.446892   \n",
       "2  46.770744  165.211960  59.198696  377.000458  256.349976  50.203476   \n",
       "3  47.473091  157.448944  58.615318  378.822571  248.439911  48.600708   \n",
       "4  47.815025  157.380234  58.385788  376.571686  245.042847  48.381695   \n",
       "\n",
       "         TFC        TJX  \n",
       "0  60.352272  66.789505  \n",
       "1  62.076630  67.673614  \n",
       "2  61.990410  65.915215  \n",
       "3  59.921181  64.019295  \n",
       "4  59.700851  64.981995  \n",
       "\n",
       "[5 rows x 101 columns]"
      ]
     },
     "execution_count": 189,
     "metadata": {},
     "output_type": "execute_result"
    }
   ],
   "source": [
    "data = pd.read_csv('DailyPrices.csv')\n",
    "data.head()"
   ]
  },
  {
   "cell_type": "code",
   "execution_count": 185,
   "metadata": {},
   "outputs": [
    {
     "name": "stdout",
     "output_type": "stream",
     "text": [
      "(35, 3)\n",
      "(32, 3)\n",
      "(32, 3)\n"
     ]
    }
   ],
   "source": [
    "portfolioA = portfolio[portfolio['Portfolio'] == 'A']\n",
    "portfolioB = portfolio[portfolio['Portfolio'] == 'B']\n",
    "portfolioC = portfolio[portfolio['Portfolio'] == 'C']\n",
    "print(portfolioA.shape)\n",
    "print(portfolioB.shape)\n",
    "print(portfolioC.shape)"
   ]
  },
  {
   "cell_type": "code",
   "execution_count": 186,
   "metadata": {},
   "outputs": [
    {
     "data": {
      "text/html": [
       "<div>\n",
       "<style scoped>\n",
       "    .dataframe tbody tr th:only-of-type {\n",
       "        vertical-align: middle;\n",
       "    }\n",
       "\n",
       "    .dataframe tbody tr th {\n",
       "        vertical-align: top;\n",
       "    }\n",
       "\n",
       "    .dataframe thead th {\n",
       "        text-align: right;\n",
       "    }\n",
       "</style>\n",
       "<table border=\"1\" class=\"dataframe\">\n",
       "  <thead>\n",
       "    <tr style=\"text-align: right;\">\n",
       "      <th></th>\n",
       "      <th>Portfolio</th>\n",
       "      <th>Stock</th>\n",
       "      <th>Holding</th>\n",
       "    </tr>\n",
       "  </thead>\n",
       "  <tbody>\n",
       "    <tr>\n",
       "      <th>0</th>\n",
       "      <td>A</td>\n",
       "      <td>AAPL</td>\n",
       "      <td>58</td>\n",
       "    </tr>\n",
       "    <tr>\n",
       "      <th>1</th>\n",
       "      <td>A</td>\n",
       "      <td>TSLA</td>\n",
       "      <td>10</td>\n",
       "    </tr>\n",
       "    <tr>\n",
       "      <th>2</th>\n",
       "      <td>A</td>\n",
       "      <td>JPM</td>\n",
       "      <td>64</td>\n",
       "    </tr>\n",
       "    <tr>\n",
       "      <th>3</th>\n",
       "      <td>A</td>\n",
       "      <td>HD</td>\n",
       "      <td>27</td>\n",
       "    </tr>\n",
       "    <tr>\n",
       "      <th>4</th>\n",
       "      <td>A</td>\n",
       "      <td>BAC</td>\n",
       "      <td>209</td>\n",
       "    </tr>\n",
       "  </tbody>\n",
       "</table>\n",
       "</div>"
      ],
      "text/plain": [
       "  Portfolio Stock  Holding\n",
       "0         A  AAPL       58\n",
       "1         A  TSLA       10\n",
       "2         A   JPM       64\n",
       "3         A    HD       27\n",
       "4         A   BAC      209"
      ]
     },
     "execution_count": 186,
     "metadata": {},
     "output_type": "execute_result"
    }
   ],
   "source": [
    "portfolioA.head()"
   ]
  },
  {
   "cell_type": "code",
   "execution_count": 213,
   "metadata": {},
   "outputs": [],
   "source": [
    "def portfolio_pv(data, portfolio):\n",
    "    pv = []\n",
    "    for stock in portfolio['Stock']:\n",
    "        pv.append(data.iloc[-1][stock])\n",
    "    return np.array(pv)"
   ]
  },
  {
   "cell_type": "code",
   "execution_count": 231,
   "metadata": {},
   "outputs": [],
   "source": [
    "def weight(data, portfolio):\n",
    "    total = np.sum(portfolio['Holding']*100*portfolio_pv(data, portfolio))\n",
    "    weight =[]\n",
    "    for stock in portfolio['Stock']:\n",
    "        weight.append(portfolio[portfolio['Stock'] == stock]['Holding']*100*data.iloc[-1][stock]/total)\n",
    "    return weight"
   ]
  },
  {
   "cell_type": "code",
   "execution_count": 243,
   "metadata": {},
   "outputs": [],
   "source": [
    "def calculate_return(price, method = 'discrete'):\n",
    "    if method == 'discrete':\n",
    "        return price.pct_change()\n",
    "    if method == 'log':\n",
    "        return np.log(price / price.shift(1))"
   ]
  },
  {
   "cell_type": "code",
   "execution_count": 254,
   "metadata": {},
   "outputs": [],
   "source": [
    "def cov_ew(data, portfolio, method = 'discrete'):\n",
    "    price = data[portfolio['Stock'].values]\n",
    "    returns = calculate_return(price, method = method)\n",
    "    weight = weight_gen(len(returns.dropna().iloc[0:]), 0.94)\n",
    "    cov = cov_gen(returns.dropna(), weight)\n",
    "    return cov\n"
   ]
  },
  {
   "cell_type": "code",
   "execution_count": 266,
   "metadata": {},
   "outputs": [
    {
     "name": "stdout",
     "output_type": "stream",
     "text": [
      "VaR for portfolio A is $ 567070.75\n",
      "VaR for portfolio B is $ 449499.84\n",
      "VaR for portfolio C is $ 378692.6\n",
      "VaR for total portfolio is $ 1395263.19\n"
     ]
    }
   ],
   "source": [
    "portfolio = [portfolioA, portfolioB, portfolioC]\n",
    "sumtotal = 0\n",
    "z_score = 1.645\n",
    "for portfolio in portfolio:\n",
    "    holding = portfolio['Holding']*100\n",
    "    pv = portfolio_pv(data, portfolio)\n",
    "    cov_matrix = cov_ew(data, portfolio, method = 'discrete')\n",
    "    weights = np.array(weight(data, portfolio))\n",
    "    middle = np.dot(cov_matrix, weights)\n",
    "    var = np.dot(weights.T, middle)\n",
    "    present = np.sum(pv * holding)\n",
    "    total = present * z_score * np.sqrt(var)\n",
    "    total = round(total[0][0],2)\n",
    "    sumtotal+=total\n",
    "    print('VaR for portfolio', portfolio['Portfolio'].iloc[0], 'is $', total)\n",
    "print('VaR for total portfolio is $', sumtotal)"
   ]
  },
  {
   "cell_type": "code",
   "execution_count": 272,
   "metadata": {},
   "outputs": [
    {
     "name": "stdout",
     "output_type": "stream",
     "text": [
      "VaR for portfolio A is $ 482785.48\n",
      "VaR for portfolio B is $ 406016.58\n",
      "VaR for portfolio C is $ 342785.35\n",
      "VaR for total portfolio is $ 1231587.41\n"
     ]
    }
   ],
   "source": [
    "portfolio = [portfolioA, portfolioB, portfolioC]\n",
    "sumtotal = 0\n",
    "for portfolio in portfolio:\n",
    "    holding = portfolio['Holding']*100\n",
    "    pv = portfolio_pv(data, portfolio)\n",
    "    price = data[portfolio['Stock'].values]\n",
    "    returns = calculate_return(price, method = 'log')\n",
    "    cov_matrix = returns.cov()\n",
    "    weights = np.array(weight(data, portfolio))\n",
    "    middle = np.dot(cov_matrix, weights)\n",
    "    var = np.dot(weights.T, middle)\n",
    "    present = np.sum(pv * holding)\n",
    "    total = present * np.sqrt(var)\n",
    "    total = round(total[0][0],2)\n",
    "    sumtotal+=total\n",
    "    print('VaR for portfolio', portfolio['Portfolio'].iloc[0], 'is $', total)\n",
    "print('VaR for total portfolio is $', round(sumtotal,2))"
   ]
  }
 ],
 "metadata": {
  "kernelspec": {
   "display_name": "base",
   "language": "python",
   "name": "python3"
  },
  "language_info": {
   "codemirror_mode": {
    "name": "ipython",
    "version": 3
   },
   "file_extension": ".py",
   "mimetype": "text/x-python",
   "name": "python",
   "nbconvert_exporter": "python",
   "pygments_lexer": "ipython3",
   "version": "3.7.2"
  },
  "orig_nbformat": 4,
  "vscode": {
   "interpreter": {
    "hash": "dc1b3402593015815fa502f600fec9937e23a463d3ef930101a05f315a838afd"
   }
  }
 },
 "nbformat": 4,
 "nbformat_minor": 2
}
